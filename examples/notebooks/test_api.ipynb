{
 "cells": [
  {
   "cell_type": "markdown",
   "metadata": {},
   "source": [
    "# Test de l'api Triflow (TRansient Instable Flow)\n",
    "\n",
    "## Initialisation\n",
    "\n",
    "### Imports"
   ]
  },
  {
   "cell_type": "code",
   "execution_count": 1,
   "metadata": {
    "ExecuteTime": {
     "end_time": "2016-11-18T13:27:36.645264",
     "start_time": "2016-11-18T13:27:35.511140"
    },
    "collapsed": false,
    "init_cell": true
   },
   "outputs": [],
   "source": [
    "import logging\n",
    "import itertools as it\n",
    "from dill import copy\n",
    "\n",
    "import pylab as pl\n",
    "import seaborn as sns\n",
    "import numpy as np\n",
    "from scipy.signal import hamming\n",
    "\n",
    "from triflow.solver import Solver\n",
    "from triflow.helpers import init_4f_open\n",
    "from triflow import displays, writers, materials, signals, schemes\n",
    "\n",
    "%matplotlib inline"
   ]
  },
  {
   "cell_type": "markdown",
   "metadata": {},
   "source": [
    "### logging"
   ]
  },
  {
   "cell_type": "code",
   "execution_count": 2,
   "metadata": {
    "ExecuteTime": {
     "end_time": "2016-11-18T13:27:36.650553",
     "start_time": "2016-11-18T13:27:36.646764"
    },
    "collapsed": true,
    "init_cell": true
   },
   "outputs": [],
   "source": [
    "logger = logging.getLogger()\n",
    "logger.handlers = []\n",
    "handler = logging.StreamHandler()\n",
    "formatter = logging.Formatter(\n",
    "    '%(asctime)s %(name)-12s %(levelname)-8s %(message)s')\n",
    "handler.setFormatter(formatter)\n",
    "logger.addHandler(handler)\n",
    "logger.setLevel(logging.WARNING)"
   ]
  },
  {
   "cell_type": "markdown",
   "metadata": {},
   "source": [
    "### Important après installation, mais peut être très long (~1h30)"
   ]
  },
  {
   "cell_type": "markdown",
   "metadata": {
    "ExecuteTime": {
     "end_time": "2016-11-18T11:50:41.265724",
     "start_time": "2016-11-18T11:50:06.576290"
    },
    "collapsed": true
   },
   "source": [
    "from triflow.boundaries import openflow_boundary, periodic_boundary\n",
    "from triflow.models.model_4fields import model\n",
    "from triflow.models.model_full_fourrier import model as ffmodel\n",
    "from triflow.make_routines import cache_routines_fortran\n",
    "cache_routines_fortran(model, openflow_boundary, '4fields_open')\n",
    "cache_routines_fortran(model, periodic_boundary, '4fields_per')\n",
    "cache_routines_fortran(lambda: ffmodel(10), periodic_boundary, '10ff_per')\n",
    "cache_routines_fortran(lambda: ffmodel(10), openflow_boundary, '10ff_open')"
   ]
  },
  {
   "cell_type": "markdown",
   "metadata": {},
   "source": [
    "## Mise en place des paramètres physiques"
   ]
  },
  {
   "cell_type": "code",
   "execution_count": 3,
   "metadata": {
    "ExecuteTime": {
     "end_time": "2016-11-18T13:27:41.197576",
     "start_time": "2016-11-18T13:27:36.651646"
    },
    "collapsed": false,
    "init_cell": true
   },
   "outputs": [
    {
     "data": {
      "text/plain": [
       "{'B': 0.009994870185617077,\n",
       " 'Beta': 1.5707963267948966,\n",
       " 'Bi': 0.00281,\n",
       " 'Ct': 6.12323399573677e-17,\n",
       " 'Ka': 3363.38172912941,\n",
       " 'L': 200,\n",
       " 'Nx': 600,\n",
       " 'Pe': 104.5,\n",
       " 'Pr': 6.96666666666668,\n",
       " 'Re': 15,\n",
       " 'We': 265.8486656174358,\n",
       " 'alpha': 36.09224577414277,\n",
       " 'bhN': 0.0007007045269019624,\n",
       " 'chi': 1.43540669856459e-07,\n",
       " 'cp': 4180.0,\n",
       " 'dt': 1,\n",
       " 'freq': 0.011638206436051,\n",
       " 'freqd': 80,\n",
       " 'g': 9.81,\n",
       " 'hN': 15.0,\n",
       " 'hini': 1.0,\n",
       " 'l_factor': 1427.13506422075,\n",
       " 'l_v': 4.67136351267974e-05,\n",
       " 'lamb': 0.6,\n",
       " 'nu': 1e-06,\n",
       " 'per': 85.923892611353,\n",
       " 'perd': 0.0125,\n",
       " 'phi_flat': -0.00989596133669492,\n",
       " 'phiini': -0.00989596133669492,\n",
       " 'qini': 0.3333333333333333,\n",
       " 'rho': 1000,\n",
       " 'sigma_inf': 0.072,\n",
       " 'signal_ampl': 0.5,\n",
       " 'signal_freq': 0.011638206436051,\n",
       " 'sini': 0,\n",
       " 't': 0,\n",
       " 't_factor': 0.000145477580450637,\n",
       " 't_v': 0.00218216370675956,\n",
       " 'theta_flat': 0.990104038663305,\n",
       " 'thetaini': 0.990104038663305,\n",
       " 'tmax': 200,\n",
       " 'tol': 0.1}"
      ]
     },
     "execution_count": 3,
     "metadata": {},
     "output_type": "execute_result"
    }
   ],
   "source": [
    "parameters = {}\n",
    "\n",
    "physical_parameters = materials.water()\n",
    "physical_parameters['Beta'] = np.pi / 2\n",
    "physical_parameters['Re'] = 15\n",
    "physical_parameters['Bi'] = 2.81E-03\n",
    "physical_parameters['freqd'] = 80\n",
    "physical_parameters['signal_freq'] = physical_parameters['freq']\n",
    "physical_parameters['signal_ampl'] = .5\n",
    "parameters.update(physical_parameters)\n",
    "\n",
    "initial_parameters = {\n",
    "    'hini': 1.,\n",
    "    'qini': 1 / 3,\n",
    "    'sini': 0,\n",
    "    'thetaini': physical_parameters['theta_flat'],\n",
    "    'phiini': physical_parameters['phi_flat']\n",
    "}\n",
    "parameters.update(initial_parameters)\n",
    "\n",
    "numerical_parameters = {'t': 0, 'dt': 1, 'tmax': 200,\n",
    "                        'tol': 1E-1}\n",
    "parameters.update(numerical_parameters)\n",
    "\n",
    "domain_parameters = {'L': 200, 'Nx': 600}\n",
    "parameters.update(domain_parameters)\n",
    "\n",
    "parameters"
   ]
  },
  {
   "cell_type": "markdown",
   "metadata": {},
   "source": [
    "## Configuration du solveur\n",
    "\n",
    "### Choix du solveur"
   ]
  },
  {
   "cell_type": "code",
   "execution_count": 4,
   "metadata": {
    "ExecuteTime": {
     "end_time": "2016-11-18T13:27:41.209560",
     "start_time": "2016-11-18T13:27:41.200316"
    },
    "collapsed": false
   },
   "outputs": [],
   "source": [
    "solver, initial_fields = init_4f_open(parameters)"
   ]
  },
  {
   "cell_type": "markdown",
   "metadata": {},
   "source": [
    "### Initialisation de la simulation"
   ]
  },
  {
   "cell_type": "code",
   "execution_count": 5,
   "metadata": {
    "ExecuteTime": {
     "end_time": "2016-11-18T13:27:41.230771",
     "start_time": "2016-11-18T13:27:41.210567"
    },
    "collapsed": false,
    "init_cell": false
   },
   "outputs": [],
   "source": [
    "simul = solver.start_simulation(initial_fields, 0, **parameters)"
   ]
  },
  {
   "cell_type": "markdown",
   "metadata": {},
   "source": [
    "### Ajout des perturbations en entrée"
   ]
  },
  {
   "cell_type": "code",
   "execution_count": 6,
   "metadata": {
    "ExecuteTime": {
     "end_time": "2016-11-18T13:27:41.260448",
     "start_time": "2016-11-18T13:27:41.231889"
    },
    "collapsed": true
   },
   "outputs": [],
   "source": [
    "my_signal = (signals.ForcedSignal(simul, offset=1) +\n",
    "             signals.BrownNoise(simul, noise_ampl=.01, fcut=.2))\n",
    "simul.add_signal('h', my_signal)"
   ]
  },
  {
   "cell_type": "markdown",
   "metadata": {},
   "source": [
    "### Choix des affichages et des writers"
   ]
  },
  {
   "cell_type": "code",
   "execution_count": 7,
   "metadata": {
    "ExecuteTime": {
     "end_time": "2016-11-18T13:27:41.469791",
     "start_time": "2016-11-18T13:27:41.465758"
    },
    "collapsed": false
   },
   "outputs": [],
   "source": [
    "from triflow.misc import coroutine\n",
    "\n",
    "## il est très simple de faire son propre affichage, c'est un générateur\n",
    "# s'initialisant avec la simulation et qui yield les info voulues.\n",
    "def simple_display_niter(simul):\n",
    "    sdisplay = displays.simple_display(simul)\n",
    "    while True:\n",
    "        yield [*next(sdisplay), simul.internal_iter]\n",
    "        \n",
    "simul.set_display(simple_display_niter)"
   ]
  },
  {
   "cell_type": "markdown",
   "metadata": {},
   "source": [
    "### Configuration \"annexes\""
   ]
  },
  {
   "cell_type": "markdown",
   "metadata": {},
   "source": [
    "## Calcul"
   ]
  },
  {
   "cell_type": "code",
   "execution_count": 8,
   "metadata": {
    "ExecuteTime": {
     "end_time": "2016-11-18T13:28:07.348492",
     "start_time": "2016-11-18T13:27:41.956645"
    },
    "collapsed": false
   },
   "outputs": [
    {
     "name": "stdout",
     "output_type": "stream",
     "text": [
      "\r",
      "t: 1, niter: 8"
     ]
    },
    {
     "data": {
      "text/html": []
     },
     "metadata": {},
     "output_type": "display_data"
    },
    {
     "data": {
      "application/javascript": [
       "\n",
       "(function(global) {\n",
       "  function now() {\n",
       "    return new Date();\n",
       "  }\n",
       "\n",
       "  var force = \"1\";\n",
       "\n",
       "  if (typeof (window._bokeh_onload_callbacks) === \"undefined\" || force !== \"\") {\n",
       "    window._bokeh_onload_callbacks = [];\n",
       "    window._bokeh_is_loading = undefined;\n",
       "  }\n",
       "\n",
       "\n",
       "  \n",
       "  if (typeof (window._bokeh_timeout) === \"undefined\" || force !== \"\") {\n",
       "    window._bokeh_timeout = Date.now() + 5000;\n",
       "    window._bokeh_failed_load = false;\n",
       "  }\n",
       "\n",
       "  var NB_LOAD_WARNING = {'data': {'text/html':\n",
       "     \"<div style='background-color: #fdd'>\\n\"+\n",
       "     \"<p>\\n\"+\n",
       "     \"BokehJS does not appear to have successfully loaded. If loading BokehJS from CDN, this \\n\"+\n",
       "     \"may be due to a slow or bad network connection. Possible fixes:\\n\"+\n",
       "     \"</p>\\n\"+\n",
       "     \"<ul>\\n\"+\n",
       "     \"<li>re-rerun `output_notebook()` to attempt to load from CDN again, or</li>\\n\"+\n",
       "     \"<li>use INLINE resources instead, as so:</li>\\n\"+\n",
       "     \"</ul>\\n\"+\n",
       "     \"<code>\\n\"+\n",
       "     \"from bokeh.resources import INLINE\\n\"+\n",
       "     \"output_notebook(resources=INLINE)\\n\"+\n",
       "     \"</code>\\n\"+\n",
       "     \"</div>\"}};\n",
       "\n",
       "  function display_loaded() {\n",
       "    if (window.Bokeh !== undefined) {\n",
       "      Bokeh.$(\"#\").text(\"BokehJS successfully loaded.\");\n",
       "    } else if (Date.now() < window._bokeh_timeout) {\n",
       "      setTimeout(display_loaded, 100)\n",
       "    }\n",
       "  }\n",
       "\n",
       "  function run_callbacks() {\n",
       "    window._bokeh_onload_callbacks.forEach(function(callback) { callback() });\n",
       "    delete window._bokeh_onload_callbacks\n",
       "    console.info(\"Bokeh: all callbacks have finished\");\n",
       "  }\n",
       "\n",
       "  function load_libs(js_urls, callback) {\n",
       "    window._bokeh_onload_callbacks.push(callback);\n",
       "    if (window._bokeh_is_loading > 0) {\n",
       "      console.log(\"Bokeh: BokehJS is being loaded, scheduling callback at\", now());\n",
       "      return null;\n",
       "    }\n",
       "    if (js_urls == null || js_urls.length === 0) {\n",
       "      run_callbacks();\n",
       "      return null;\n",
       "    }\n",
       "    console.log(\"Bokeh: BokehJS not loaded, scheduling load and callback at\", now());\n",
       "    window._bokeh_is_loading = js_urls.length;\n",
       "    for (var i = 0; i < js_urls.length; i++) {\n",
       "      var url = js_urls[i];\n",
       "      var s = document.createElement('script');\n",
       "      s.src = url;\n",
       "      s.async = false;\n",
       "      s.onreadystatechange = s.onload = function() {\n",
       "        window._bokeh_is_loading--;\n",
       "        if (window._bokeh_is_loading === 0) {\n",
       "          console.log(\"Bokeh: all BokehJS libraries loaded\");\n",
       "          run_callbacks()\n",
       "        }\n",
       "      };\n",
       "      s.onerror = function() {\n",
       "        console.warn(\"failed to load library \" + url);\n",
       "      };\n",
       "      console.log(\"Bokeh: injecting script tag for BokehJS library: \", url);\n",
       "      document.getElementsByTagName(\"head\")[0].appendChild(s);\n",
       "    }\n",
       "  };\n",
       "\n",
       "  var js_urls = ['https://cdn.pydata.org/bokeh/release/bokeh-0.12.2.min.js', 'https://cdn.pydata.org/bokeh/release/bokeh-widgets-0.12.2.min.js', 'https://cdn.pydata.org/bokeh/release/bokeh-compiler-0.12.2.min.js'];\n",
       "\n",
       "  var inline_js = [\n",
       "    function(Bokeh) {\n",
       "      Bokeh.set_log_level(\"info\");\n",
       "    },\n",
       "    \n",
       "    function(Bokeh) {\n",
       "      \n",
       "      Bokeh.$(\"#a7343808-c82c-4ab1-ba8f-775388cecdea\").text(\"BokehJS is loading...\");\n",
       "    },\n",
       "    function(Bokeh) {\n",
       "      console.log(\"Bokeh: injecting CSS: https://cdn.pydata.org/bokeh/release/bokeh-0.12.2.min.css\");\n",
       "      Bokeh.embed.inject_css(\"https://cdn.pydata.org/bokeh/release/bokeh-0.12.2.min.css\");\n",
       "      console.log(\"Bokeh: injecting CSS: https://cdn.pydata.org/bokeh/release/bokeh-widgets-0.12.2.min.css\");\n",
       "      Bokeh.embed.inject_css(\"https://cdn.pydata.org/bokeh/release/bokeh-widgets-0.12.2.min.css\");\n",
       "    }\n",
       "  ];\n",
       "\n",
       "  function run_inline_js() {\n",
       "    \n",
       "    if ((window.Bokeh !== undefined) || (force === \"1\")) {\n",
       "      for (var i = 0; i < inline_js.length; i++) {\n",
       "        inline_js[i](window.Bokeh);\n",
       "      }} else if (Date.now() < window._bokeh_timeout) {\n",
       "      setTimeout(run_inline_js, 100);\n",
       "    } else if (!window._bokeh_failed_load) {\n",
       "      console.log(\"Bokeh: BokehJS failed to load within specified timeout.\");\n",
       "      window._bokeh_failed_load = true;\n",
       "    } else if (!force) {\n",
       "      var cell = $(\"#\").parents('.cell').data().cell;\n",
       "      cell.output_area.append_execute_result(NB_LOAD_WARNING)\n",
       "    }\n",
       "\n",
       "  }\n",
       "\n",
       "  if (window._bokeh_is_loading === 0) {\n",
       "    console.log(\"Bokeh: BokehJS loaded, going straight to plotting\");\n",
       "    run_inline_js();\n",
       "  } else {\n",
       "    load_libs(js_urls, function() {\n",
       "      console.log(\"Bokeh: BokehJS plotting callback run at\", now());\n",
       "      run_inline_js();\n",
       "    });\n",
       "  }\n",
       "}(this));"
      ]
     },
     "metadata": {},
     "output_type": "display_data"
    },
    {
     "data": {
      "text/html": [
       "\n",
       "\n",
       "    <div class=\"bk-root\">\n",
       "        <div class=\"plotdiv\" id=\"80e3a327-99ae-4271-a0af-3175c698b65a\"></div>\n",
       "    </div>\n",
       "<script type=\"text/javascript\">\n",
       "  \n",
       "  (function(global) {\n",
       "    function now() {\n",
       "      return new Date();\n",
       "    }\n",
       "  \n",
       "    var force = \"\";\n",
       "  \n",
       "    if (typeof (window._bokeh_onload_callbacks) === \"undefined\" || force !== \"\") {\n",
       "      window._bokeh_onload_callbacks = [];\n",
       "      window._bokeh_is_loading = undefined;\n",
       "    }\n",
       "  \n",
       "  \n",
       "    \n",
       "    if (typeof (window._bokeh_timeout) === \"undefined\" || force !== \"\") {\n",
       "      window._bokeh_timeout = Date.now() + 0;\n",
       "      window._bokeh_failed_load = false;\n",
       "    }\n",
       "  \n",
       "    var NB_LOAD_WARNING = {'data': {'text/html':\n",
       "       \"<div style='background-color: #fdd'>\\n\"+\n",
       "       \"<p>\\n\"+\n",
       "       \"BokehJS does not appear to have successfully loaded. If loading BokehJS from CDN, this \\n\"+\n",
       "       \"may be due to a slow or bad network connection. Possible fixes:\\n\"+\n",
       "       \"</p>\\n\"+\n",
       "       \"<ul>\\n\"+\n",
       "       \"<li>re-rerun `output_notebook()` to attempt to load from CDN again, or</li>\\n\"+\n",
       "       \"<li>use INLINE resources instead, as so:</li>\\n\"+\n",
       "       \"</ul>\\n\"+\n",
       "       \"<code>\\n\"+\n",
       "       \"from bokeh.resources import INLINE\\n\"+\n",
       "       \"output_notebook(resources=INLINE)\\n\"+\n",
       "       \"</code>\\n\"+\n",
       "       \"</div>\"}};\n",
       "  \n",
       "    function display_loaded() {\n",
       "      if (window.Bokeh !== undefined) {\n",
       "        Bokeh.$(\"#80e3a327-99ae-4271-a0af-3175c698b65a\").text(\"BokehJS successfully loaded.\");\n",
       "      } else if (Date.now() < window._bokeh_timeout) {\n",
       "        setTimeout(display_loaded, 100)\n",
       "      }\n",
       "    }if ((window.Jupyter !== undefined) && Jupyter.notebook.kernel) {\n",
       "      comm_manager = Jupyter.notebook.kernel.comm_manager\n",
       "      comm_manager.register_target(\"ade03e76-80f9-4f77-b285-3adafda121f1\", function () {});\n",
       "    }\n",
       "  \n",
       "    function run_callbacks() {\n",
       "      window._bokeh_onload_callbacks.forEach(function(callback) { callback() });\n",
       "      delete window._bokeh_onload_callbacks\n",
       "      console.info(\"Bokeh: all callbacks have finished\");\n",
       "    }\n",
       "  \n",
       "    function load_libs(js_urls, callback) {\n",
       "      window._bokeh_onload_callbacks.push(callback);\n",
       "      if (window._bokeh_is_loading > 0) {\n",
       "        console.log(\"Bokeh: BokehJS is being loaded, scheduling callback at\", now());\n",
       "        return null;\n",
       "      }\n",
       "      if (js_urls == null || js_urls.length === 0) {\n",
       "        run_callbacks();\n",
       "        return null;\n",
       "      }\n",
       "      console.log(\"Bokeh: BokehJS not loaded, scheduling load and callback at\", now());\n",
       "      window._bokeh_is_loading = js_urls.length;\n",
       "      for (var i = 0; i < js_urls.length; i++) {\n",
       "        var url = js_urls[i];\n",
       "        var s = document.createElement('script');\n",
       "        s.src = url;\n",
       "        s.async = false;\n",
       "        s.onreadystatechange = s.onload = function() {\n",
       "          window._bokeh_is_loading--;\n",
       "          if (window._bokeh_is_loading === 0) {\n",
       "            console.log(\"Bokeh: all BokehJS libraries loaded\");\n",
       "            run_callbacks()\n",
       "          }\n",
       "        };\n",
       "        s.onerror = function() {\n",
       "          console.warn(\"failed to load library \" + url);\n",
       "        };\n",
       "        console.log(\"Bokeh: injecting script tag for BokehJS library: \", url);\n",
       "        document.getElementsByTagName(\"head\")[0].appendChild(s);\n",
       "      }\n",
       "    };var element = document.getElementById(\"80e3a327-99ae-4271-a0af-3175c698b65a\");\n",
       "    if (element == null) {\n",
       "      console.log(\"Bokeh: ERROR: autoload.js configured with elementid '80e3a327-99ae-4271-a0af-3175c698b65a' but no matching script tag was found. \")\n",
       "      return false;\n",
       "    }\n",
       "  \n",
       "    var js_urls = [];\n",
       "  \n",
       "    var inline_js = [\n",
       "      function(Bokeh) {\n",
       "        Bokeh.$(function() {\n",
       "            var docs_json = {\"57940fc3-3134-4e54-b0b6-00959d1548f7\":{\"roots\":{\"references\":[{\"attributes\":{\"formatter\":{\"id\":\"132b68fc-f3a2-4ecf-ae40-7f481b873ab2\",\"type\":\"BasicTickFormatter\"},\"plot\":{\"id\":\"c5c6951a-6deb-486d-b9b9-9f47590b6d2c\",\"subtype\":\"Figure\",\"type\":\"Plot\"},\"ticker\":{\"id\":\"b0df0373-3a20-4c4d-85e3-57167edfdc6c\",\"type\":\"BasicTicker\"}},\"id\":\"56bbd3a8-c712-4358-8916-8fa222f39989\",\"type\":\"LinearAxis\"},{\"attributes\":{\"below\":[{\"id\":\"5716970d-eb56-4b64-87e5-1541f47595b0\",\"type\":\"LinearAxis\"}],\"left\":[{\"id\":\"06620280-d656-4eb9-8e31-41de20f1e572\",\"type\":\"LinearAxis\"}],\"plot_height\":200,\"renderers\":[{\"id\":\"5716970d-eb56-4b64-87e5-1541f47595b0\",\"type\":\"LinearAxis\"},{\"id\":\"6bc938eb-75c8-4e4f-b44e-2ed9f65f8355\",\"type\":\"Grid\"},{\"id\":\"06620280-d656-4eb9-8e31-41de20f1e572\",\"type\":\"LinearAxis\"},{\"id\":\"8294c063-204e-46a9-9fe2-710e1f19565e\",\"type\":\"Grid\"},{\"id\":\"06debbd5-5a13-4396-a33e-b9754c554c8c\",\"type\":\"BoxAnnotation\"},{\"id\":\"dbcf5fc3-e72a-4441-9c30-c4cf8e7debe7\",\"type\":\"GlyphRenderer\"}],\"title\":{\"id\":\"2370ae8e-b6bc-437f-9ac0-dbbd62bf3aad\",\"type\":\"Title\"},\"tool_events\":{\"id\":\"df86ec22-28b8-4ff5-b55b-a3b4fdf6409c\",\"type\":\"ToolEvents\"},\"toolbar\":{\"id\":\"8c5a7784-afaf-44e3-a194-212062b47ef4\",\"type\":\"Toolbar\"},\"x_range\":{\"id\":\"343c3c4f-c879-4c16-aa81-9aa315177f70\",\"type\":\"DataRange1d\"},\"y_range\":{\"id\":\"8b9c4dff-5911-44f6-b557-5a57f603ceec\",\"type\":\"DataRange1d\"}},\"id\":\"a210d3e9-7633-452d-97e4-40145f573c51\",\"subtype\":\"Figure\",\"type\":\"Plot\"},{\"attributes\":{},\"id\":\"79cf1431-060f-4a78-91dd-80fe3f31f184\",\"type\":\"BasicTickFormatter\"},{\"attributes\":{\"plot\":{\"id\":\"c5c6951a-6deb-486d-b9b9-9f47590b6d2c\",\"subtype\":\"Figure\",\"type\":\"Plot\"},\"ticker\":{\"id\":\"2dc4cd27-c019-40e5-818b-3404ffb20898\",\"type\":\"BasicTicker\"}},\"id\":\"7147cff0-af70-401a-a786-891e76c8347d\",\"type\":\"Grid\"},{\"attributes\":{\"plot\":{\"id\":\"a210d3e9-7633-452d-97e4-40145f573c51\",\"subtype\":\"Figure\",\"type\":\"Plot\"}},\"id\":\"b99c13ee-0164-4c25-bb8d-b9abd2b5a94d\",\"type\":\"ResetTool\"},{\"attributes\":{\"formatter\":{\"id\":\"58bfdd70-8285-4192-8714-56138a7fafca\",\"type\":\"BasicTickFormatter\"},\"plot\":{\"id\":\"a210d3e9-7633-452d-97e4-40145f573c51\",\"subtype\":\"Figure\",\"type\":\"Plot\"},\"ticker\":{\"id\":\"22fd7ebb-30d5-44f6-80f7-edb27a36dc51\",\"type\":\"BasicTicker\"}},\"id\":\"5716970d-eb56-4b64-87e5-1541f47595b0\",\"type\":\"LinearAxis\"},{\"attributes\":{\"line_alpha\":{\"value\":0.1},\"line_color\":{\"value\":\"#1f77b4\"},\"x\":{\"field\":\"x\"},\"y\":{\"field\":\"phi\"}},\"id\":\"a7787d19-75b8-485c-bf3d-c5cecec25d4b\",\"type\":\"Line\"},{\"attributes\":{\"active_drag\":\"auto\",\"active_scroll\":\"auto\",\"active_tap\":\"auto\",\"tools\":[{\"id\":\"fe1e711f-3fc2-4269-a95c-155fcf1c3221\",\"type\":\"PanTool\"},{\"id\":\"71fdf061-639e-47b5-8697-2623ce584fd1\",\"type\":\"WheelZoomTool\"},{\"id\":\"e8addd87-243f-4c77-a61b-cf7fdd6f123e\",\"type\":\"BoxZoomTool\"},{\"id\":\"342165c5-2217-4247-bd6a-a07ac0c4036a\",\"type\":\"SaveTool\"},{\"id\":\"b99c13ee-0164-4c25-bb8d-b9abd2b5a94d\",\"type\":\"ResetTool\"},{\"id\":\"ce232028-916e-4548-8b87-c7c76dc404bf\",\"type\":\"HelpTool\"}]},\"id\":\"8c5a7784-afaf-44e3-a194-212062b47ef4\",\"type\":\"Toolbar\"},{\"attributes\":{\"callback\":null},\"id\":\"343c3c4f-c879-4c16-aa81-9aa315177f70\",\"type\":\"DataRange1d\"},{\"attributes\":{},\"id\":\"58bfdd70-8285-4192-8714-56138a7fafca\",\"type\":\"BasicTickFormatter\"},{\"attributes\":{\"overlay\":{\"id\":\"06debbd5-5a13-4396-a33e-b9754c554c8c\",\"type\":\"BoxAnnotation\"},\"plot\":{\"id\":\"a210d3e9-7633-452d-97e4-40145f573c51\",\"subtype\":\"Figure\",\"type\":\"Plot\"}},\"id\":\"e8addd87-243f-4c77-a61b-cf7fdd6f123e\",\"type\":\"BoxZoomTool\"},{\"attributes\":{\"plot\":{\"id\":\"c5c6951a-6deb-486d-b9b9-9f47590b6d2c\",\"subtype\":\"Figure\",\"type\":\"Plot\"}},\"id\":\"289cd239-d5b3-49ab-9ce1-e6b4c26fbc86\",\"type\":\"ResetTool\"},{\"attributes\":{\"plot\":{\"id\":\"c5c6951a-6deb-486d-b9b9-9f47590b6d2c\",\"subtype\":\"Figure\",\"type\":\"Plot\"}},\"id\":\"cd20f0f0-a615-4c16-a3dd-eb124a56dcb1\",\"type\":\"WheelZoomTool\"},{\"attributes\":{\"formatter\":{\"id\":\"79cf1431-060f-4a78-91dd-80fe3f31f184\",\"type\":\"BasicTickFormatter\"},\"plot\":{\"id\":\"c5c6951a-6deb-486d-b9b9-9f47590b6d2c\",\"subtype\":\"Figure\",\"type\":\"Plot\"},\"ticker\":{\"id\":\"2dc4cd27-c019-40e5-818b-3404ffb20898\",\"type\":\"BasicTicker\"}},\"id\":\"382b4151-cd6f-4a15-aafa-f2f669363c4d\",\"type\":\"LinearAxis\"},{\"attributes\":{\"plot\":{\"id\":\"c5c6951a-6deb-486d-b9b9-9f47590b6d2c\",\"subtype\":\"Figure\",\"type\":\"Plot\"}},\"id\":\"48859843-a1c4-4428-b4bd-f27c51da35bc\",\"type\":\"HelpTool\"},{\"attributes\":{},\"id\":\"df86ec22-28b8-4ff5-b55b-a3b4fdf6409c\",\"type\":\"ToolEvents\"},{\"attributes\":{\"data_source\":{\"id\":\"80c22353-22ee-416f-a908-cc0d12e3fb4a\",\"type\":\"ColumnDataSource\"},\"glyph\":{\"id\":\"1be03d48-9c7c-47af-ab73-b661a6929f95\",\"type\":\"Line\"},\"hover_glyph\":null,\"nonselection_glyph\":{\"id\":\"a7787d19-75b8-485c-bf3d-c5cecec25d4b\",\"type\":\"Line\"},\"selection_glyph\":null},\"id\":\"dbcf5fc3-e72a-4441-9c30-c4cf8e7debe7\",\"type\":\"GlyphRenderer\"},{\"attributes\":{\"plot\":{\"id\":\"a210d3e9-7633-452d-97e4-40145f573c51\",\"subtype\":\"Figure\",\"type\":\"Plot\"}},\"id\":\"71fdf061-639e-47b5-8697-2623ce584fd1\",\"type\":\"WheelZoomTool\"},{\"attributes\":{\"below\":[{\"id\":\"382b4151-cd6f-4a15-aafa-f2f669363c4d\",\"type\":\"LinearAxis\"}],\"left\":[{\"id\":\"56bbd3a8-c712-4358-8916-8fa222f39989\",\"type\":\"LinearAxis\"}],\"plot_height\":200,\"renderers\":[{\"id\":\"382b4151-cd6f-4a15-aafa-f2f669363c4d\",\"type\":\"LinearAxis\"},{\"id\":\"7147cff0-af70-401a-a786-891e76c8347d\",\"type\":\"Grid\"},{\"id\":\"56bbd3a8-c712-4358-8916-8fa222f39989\",\"type\":\"LinearAxis\"},{\"id\":\"0b487de5-6211-409c-8dbd-f3a02051fc93\",\"type\":\"Grid\"},{\"id\":\"d0cf5dbf-e1b3-4007-bb5e-502b89840df2\",\"type\":\"BoxAnnotation\"},{\"id\":\"ba37ef1a-1da8-4bef-b250-9ede45a16126\",\"type\":\"GlyphRenderer\"}],\"title\":{\"id\":\"1c5c7023-9cb4-4496-9f25-f68f22bc7203\",\"type\":\"Title\"},\"tool_events\":{\"id\":\"a5f6cda6-a669-408f-a918-1e2772787443\",\"type\":\"ToolEvents\"},\"toolbar\":{\"id\":\"3d4ef9b4-5a60-4e08-9b24-5073800d0483\",\"type\":\"Toolbar\"},\"x_range\":{\"id\":\"64bc9417-8651-4bcb-9d09-ddf2f3dfa91f\",\"type\":\"DataRange1d\"},\"y_range\":{\"id\":\"b3a8dfb6-07ba-4c80-bb37-f6f76b19d3f9\",\"type\":\"Range1d\"}},\"id\":\"c5c6951a-6deb-486d-b9b9-9f47590b6d2c\",\"subtype\":\"Figure\",\"type\":\"Plot\"},{\"attributes\":{\"dimension\":1,\"plot\":{\"id\":\"a210d3e9-7633-452d-97e4-40145f573c51\",\"subtype\":\"Figure\",\"type\":\"Plot\"},\"ticker\":{\"id\":\"d1ec221f-0611-46e8-94cd-f5d70fbbe8ee\",\"type\":\"BasicTicker\"}},\"id\":\"8294c063-204e-46a9-9fe2-710e1f19565e\",\"type\":\"Grid\"},{\"attributes\":{\"plot\":{\"id\":\"a210d3e9-7633-452d-97e4-40145f573c51\",\"subtype\":\"Figure\",\"type\":\"Plot\"}},\"id\":\"342165c5-2217-4247-bd6a-a07ac0c4036a\",\"type\":\"SaveTool\"},{\"attributes\":{\"plot\":{\"id\":\"c5c6951a-6deb-486d-b9b9-9f47590b6d2c\",\"subtype\":\"Figure\",\"type\":\"Plot\"}},\"id\":\"0d34fa79-828b-47cd-814c-ac5eeed36794\",\"type\":\"SaveTool\"},{\"attributes\":{},\"id\":\"b0df0373-3a20-4c4d-85e3-57167edfdc6c\",\"type\":\"BasicTicker\"},{\"attributes\":{},\"id\":\"a5f6cda6-a669-408f-a918-1e2772787443\",\"type\":\"ToolEvents\"},{\"attributes\":{},\"id\":\"132b68fc-f3a2-4ecf-ae40-7f481b873ab2\",\"type\":\"BasicTickFormatter\"},{\"attributes\":{\"callback\":null,\"end\":5},\"id\":\"b3a8dfb6-07ba-4c80-bb37-f6f76b19d3f9\",\"type\":\"Range1d\"},{\"attributes\":{},\"id\":\"2dc4cd27-c019-40e5-818b-3404ffb20898\",\"type\":\"BasicTicker\"},{\"attributes\":{\"dimension\":1,\"plot\":{\"id\":\"c5c6951a-6deb-486d-b9b9-9f47590b6d2c\",\"subtype\":\"Figure\",\"type\":\"Plot\"},\"ticker\":{\"id\":\"b0df0373-3a20-4c4d-85e3-57167edfdc6c\",\"type\":\"BasicTicker\"}},\"id\":\"0b487de5-6211-409c-8dbd-f3a02051fc93\",\"type\":\"Grid\"},{\"attributes\":{\"plot\":{\"id\":\"a210d3e9-7633-452d-97e4-40145f573c51\",\"subtype\":\"Figure\",\"type\":\"Plot\"},\"ticker\":{\"id\":\"22fd7ebb-30d5-44f6-80f7-edb27a36dc51\",\"type\":\"BasicTicker\"}},\"id\":\"6bc938eb-75c8-4e4f-b44e-2ed9f65f8355\",\"type\":\"Grid\"},{\"attributes\":{\"data_source\":{\"id\":\"80c22353-22ee-416f-a908-cc0d12e3fb4a\",\"type\":\"ColumnDataSource\"},\"glyph\":{\"id\":\"30f81f05-6423-4fc3-a262-6273aaa51abd\",\"type\":\"Line\"},\"hover_glyph\":null,\"nonselection_glyph\":{\"id\":\"8c4552e0-ebfd-4ee1-8d22-f1b4d0fd9d0e\",\"type\":\"Line\"},\"selection_glyph\":null},\"id\":\"ba37ef1a-1da8-4bef-b250-9ede45a16126\",\"type\":\"GlyphRenderer\"},{\"attributes\":{\"callback\":null},\"id\":\"8b9c4dff-5911-44f6-b557-5a57f603ceec\",\"type\":\"DataRange1d\"},{\"attributes\":{\"overlay\":{\"id\":\"d0cf5dbf-e1b3-4007-bb5e-502b89840df2\",\"type\":\"BoxAnnotation\"},\"plot\":{\"id\":\"c5c6951a-6deb-486d-b9b9-9f47590b6d2c\",\"subtype\":\"Figure\",\"type\":\"Plot\"}},\"id\":\"591d02c5-5acf-44fa-9996-6e9ac3623146\",\"type\":\"BoxZoomTool\"},{\"attributes\":{\"bottom_units\":\"screen\",\"fill_alpha\":{\"value\":0.5},\"fill_color\":{\"value\":\"lightgrey\"},\"left_units\":\"screen\",\"level\":\"overlay\",\"line_alpha\":{\"value\":1.0},\"line_color\":{\"value\":\"black\"},\"line_dash\":[4,4],\"line_width\":{\"value\":2},\"plot\":null,\"render_mode\":\"css\",\"right_units\":\"screen\",\"top_units\":\"screen\"},\"id\":\"06debbd5-5a13-4396-a33e-b9754c554c8c\",\"type\":\"BoxAnnotation\"},{\"attributes\":{},\"id\":\"22fd7ebb-30d5-44f6-80f7-edb27a36dc51\",\"type\":\"BasicTicker\"},{\"attributes\":{},\"id\":\"994799f7-b061-462b-ada2-c6c471554e85\",\"type\":\"BasicTickFormatter\"},{\"attributes\":{\"plot\":{\"id\":\"a210d3e9-7633-452d-97e4-40145f573c51\",\"subtype\":\"Figure\",\"type\":\"Plot\"}},\"id\":\"fe1e711f-3fc2-4269-a95c-155fcf1c3221\",\"type\":\"PanTool\"},{\"attributes\":{\"plot\":null,\"text\":\"phi\"},\"id\":\"2370ae8e-b6bc-437f-9ac0-dbbd62bf3aad\",\"type\":\"Title\"},{\"attributes\":{\"plot\":{\"id\":\"c5c6951a-6deb-486d-b9b9-9f47590b6d2c\",\"subtype\":\"Figure\",\"type\":\"Plot\"}},\"id\":\"9e05a777-5f5b-4731-8668-ff6f414dab2e\",\"type\":\"PanTool\"},{\"attributes\":{\"line_alpha\":{\"value\":0.1},\"line_color\":{\"value\":\"#1f77b4\"},\"x\":{\"field\":\"x\"},\"y\":{\"field\":\"h\"}},\"id\":\"8c4552e0-ebfd-4ee1-8d22-f1b4d0fd9d0e\",\"type\":\"Line\"},{\"attributes\":{},\"id\":\"d1ec221f-0611-46e8-94cd-f5d70fbbe8ee\",\"type\":\"BasicTicker\"},{\"attributes\":{\"plot\":{\"id\":\"a210d3e9-7633-452d-97e4-40145f573c51\",\"subtype\":\"Figure\",\"type\":\"Plot\"}},\"id\":\"ce232028-916e-4548-8b87-c7c76dc404bf\",\"type\":\"HelpTool\"},{\"attributes\":{\"callback\":null,\"column_names\":[\"x\",\"theta\",\"q\",\"s\",\"h\",\"phi\"],\"data\":{\"h\":[1.008526808760783,1.0090435262274473,0.9891163668774461,0.9898504651183723,0.9702239323851065,0.9715019136893663,0.9531278197059411,0.9525865900947142,0.9341051383027497,0.9327130454852337,0.9183553764377629,0.9213461998959542,0.9064555043436863,0.9082167769900904,0.8938335781837783,0.9021308211561008,0.8988273739802939,0.9117364421899331,0.910249752321085,0.916194974544385,0.9083748313386777,0.9072558730318012,0.8967468732286972,0.8962412625505697,0.8875472473127135,0.8899439393734235,0.8822644324286134,0.8853620051632262,0.8772761420106563,0.8796004981095492,0.871375365241842,0.8727409305175976,0.865104440102584,0.8655329242019772,0.8587691338565181,0.8582224036392241,0.8522697555331696,0.850795808720419,0.8454943430236463,0.8432460346983446,0.8384268916602245,0.8355871033556406,0.8310939522805298,0.8278239003205361,0.8235274343416124,0.8199523711303598,0.8157578155905632,0.8119690663327448,0.8078140003038504,0.8038754495449221,0.7997227461996176,0.7956781104875944,0.791508496207678,0.7873878636735789,0.7831938834469547,0.7790187631881247,0.7748004116542571,0.7705872122510873,0.7663489856466029,0.7621112190963645,0.7578602282698402,0.7536098133238766,0.7493546188347092,0.7451025986379874,0.7408525029659614,0.7366094041400627,0.7323740181153787,0.728150001663827,0.7239389694369744,0.7197438670871023,0.7155666810395269,0.7114099725810779,0.7072758396197202,0.7031666030602892,0.6990843416907808,0.6950311940035254,0.6910091517263945,0.6870201899547935,0.6830661759634926,0.6791489239719805,0.6752701548632382,0.671431518526844,0.6676345759863397,0.6638808081911071,0.6601716080965813,0.6565082840740575,0.6528920565549958,0.649324059533093,0.6458053394513229,0.6423368562355299,0.6389194834145387,0.6355540092515749,0.632241137640175,0.6289814895287186,0.625775604364046,0.6226239418482225,0.6195268837958477,0.6164847361976242,0.6134977313963037,0.6105660304063055,0.6076897253305619,0.6048688418772006,0.6021033419489165,0.5993931262972342,0.5967380372228611,0.5941378613112197,0.5915923321885264,0.5891011332872933,0.5866639006092276,0.5842802254753342,0.5819496572532112,0.579671706052713,0.5774458453817218,0.5752715147547104,0.5731481222474399,0.5710750469919649,0.5690516416067788,0.5670772345576738,0.5651511324455104,0.5632726222177531,0.5614409733011949,0.5596554396538677,0.5579152617346466,0.556219668389545,0.5545678786541348,0.5529591034719505,0.5513925473290974,0.5498674098056343,0.5483828870446025,0.5469381731398482,0.5455324614440359,0.5441649457984541,0.542834821686411,0.5415412873121772,0.5402835446075613,0.5390608001683312,0.5378722661227683,0.5367171609347352,0.5355947101436713,0.534504147043983,0.5334447133063084,0.5324156595431535,0.5314162458213861,0.5304457421240595,0.529503428764019,0.5285885967517083,0.5277005481195447,0.5268385962051996,0.5260020658960487,0.5251902938370181,0.5244026286039717,0.5236384308447345,0.5228970733897695,0.5221779413344577,0.5214804320948637,0.5208039554387899,0.5201479334938547,0.5195118007342575,0.5188950039478123,0.5182970021847734,0.5177172666898927,0.5171552808190886,0.5166105399420249,0.516082551331848,0.5155708340432493,0.5150749187799655,0.5145943477527632,0.5141286745289,0.5136774638739866,0.5132402915871299,0.5128167443301753,0.5124064194518193,0.5120089248073125,0.5116238785744254,0.5112509090663054,0.5108896545418099,0.5105397630138595,0.5102008920563145,0.5098727086098437,0.5095548887872184,0.5092471176784273,0.5089490891559818,0.5086605056807505,0.5083810781086276,0.5081105254983213,0.5078485749205178,0.5075949612686562,0.5073494270715231,0.5071117223078601,0.5068816042231548,0.5066588371487667,0.5064431923235276,0.5062344477179306,0.5060323878610188,0.5058368036700592,0.5056474922830864,0.5054642568943737,0.505286906592897,0.5051152562038267,0.5049491261330876,0.5047883422150157,0.5046327355631236,0.5044821424239897,0.5043364040342767,0.5041953664808712,0.5040588805641427,0.5039268016643056,0.5037989896108652,0.5036753085551284,0.5035556268457501,0.5034398169072873,0.5033277551217262,0.5032193217129495,0.5031144006341011,0.5030128794578128,0.5029146492692464,0.5028196045619096,0.5027276431361988,0.5026386660006225,0.502552577275658,0.5024692841001906,0.5023886965404893,0.5023107275016645,0.5022352926415624,0.5021623102870415,0.5020917013525824,0.5020233892611802,0.5019572998674668,0.5018933613830171,0.5018315043037823,0.5017716613396077,0.5017137673457789,0.5016577592565524,0.5016035760206191,0.5015511585384528,0.5015004496014996,0.5014513938331577,0.5014039376315015,0.5013580291137095,0.5013136180621458,0.5012706558720547,0.5012290955008233,0.5011888914187743,0.5011499995614394,0.5011123772832816,0.501075983312822,0.5010407777091302,0.5010067218196465,0.5009737782392922,0.5009419107708354,0.5009110843864747,0.5008812651906073,0.5008524203837478,0.500824518227561,0.5007975280109825,0.5007714200173886,0.5007461654927909,0.5007217366150211,0.5006981064638772,0.5006752489922085,0.5006531389979008,0.5006317520967449,0.5006110646961576,0.5005910539697276,0.500571697832566,0.5005529749174357,0.500534864551632,0.5005173467345974,0.5005004021162452,0.5004840119759709,0.5004681582023286,0.5004528232733552,0.5004379902375202,0.5004236426952826,0.5004097647812351,0.5003963411468189,0.5003833569435899,0.5003707978070225,0.5003586498408272,0.5003468996017743,0.5003355340850026,0.5003245407097995,0.5003139073058368,0.5003036220998499,0.5002936737027448,0.5002840510971184,0.5002747436251833,0.5002657409770784,0.5002570331795578,0.5002486105850457,0.5002404638610406,0.5002325839798658,0.5002249622087485,0.5002175901002184,0.5002104594828203,0.5002035624521233,0.5001968913620242,0.500190438816329,0.5001841976606097,0.5001781609743242,0.5001723220631915,0.5001666744518128,0.5001612118765342,0.5001559282785406,0.500150817797171,0.5001458747634552,0.5001410936938567,0.5001364692842205,0.5001319964039179,0.5001276700901811,0.500123485542621,0.5001194381179261,0.5001155233247305,0.5001117368186523,0.5001080743974894,0.5001045319965768,0.5001011056842891,0.5000977916576969,0.5000945862383561,0.5000914858682426,0.5000884871058129,0.5000855866221982,0.5000827811975189,0.5000800677173218,0.5000774431691312,0.5000749046391153,0.5000724493088586,0.5000700744522416,0.5000677774324209,0.50006555569891,0.5000634067847525,0.5000613283037889,0.5000593179480151,0.500057373485022,0.5000554927555241,0.5000536736709646,0.5000519142112019,0.5000502124222688,0.500048566414208,0.500046974358976,0.5000454344884163,0.5000439450922993,0.5000425045164252,0.5000411111607895,0.5000397634778103,0.5000384599706091,0.5000371991913526,0.5000359797396455,0.5000348002609782,0.500033659445223,0.5000325560251813,0.5000314887751768,0.5000304565096975,0.5000294580820775,0.500028492383227,0.5000275583404002,0.5000266549160054,0.5000257811064527,0.5000249359410414,0.5000241184808819,0.5000233278178536,0.5000225630735965,0.5000218233985373,0.5000211079709453,0.5000204159960209,0.5000197467050126,0.5000190993543644,0.5000184732248888,0.5000178676209708,0.5000172818697933,0.5000167153205909,0.5000161673439274,0.5000156373309972,0.5000151246929483,0.5000146288602297,0.5000141492819576,0.5000136854253054,0.5000132367749102,0.5000128028323012,0.5000123831153466,0.5000119771577176,0.5000115845083706,0.5000112047310465,0.5000108374037858,0.5000104821184608,0.5000101384803202,0.5000098061075541,0.500009484630866,0.5000091736930665,0.500008872948673,0.5000085820635287,0.5000083007144296,0.5000080285887668,0.5000077653841783,0.500007510808214,0.5000072645780096,0.5000070264199736,0.5000067960694828,0.500006573270589,0.5000063577757331,0.5000061493454724,0.500005947748212,0.5000057527599503,0.5000055641640274,0.5000053817508865,0.5000052053178401,0.5000050346688452,0.5000048696142853,0.5000047099707594,0.5000045555608794,0.5000044062130719,0.5000042617613876,0.5000041220453177,0.5000039869096156,0.500003856204123,0.5000037297836045,0.5000036075075865,0.5000034892401994,0.5000033748500283,0.5000032642099659,0.5000031571970723,0.5000030536924376,0.5000029535810496,0.5000028567516677,0.5000027630966967,0.5000026725120692,0.5000025848971297,0.5000025001545221,0.5000024181900816,0.5000023389127309,0.5000022622343786,0.5000021880698206,0.5000021163366459,0.500002046955146,0.5000019798482251,0.5000019149413146,0.5000018521622903,0.5000017914413936,0.5000017327111509,0.5000016759063024,0.5000016209637266,0.500001567822372,0.500001516423188,0.5000014667090604,0.5000014186247465,0.5000013721168158,0.5000013271335888,0.5000012836250802,0.5000012415429431,0.5000012008404161,0.5000011614722709,0.5000011233947615,0.5000010865655761,0.5000010509437902,0.5000010164898205,0.5000009831653823,0.5000009509334452,0.5000009197581929,0.5000008896049832,0.5000008604403103,0.500000832231766,0.5000008049480049,0.5000007785587091,0.5000007530345549,0.5000007283471798,0.5000007044691507,0.5000006813739346,0.5000006590358677,0.500000637430128,0.5000006165327072,0.5000005963203836,0.5000005767706975,0.5000005578619247,0.500000539573054,0.5000005218837625,0.5000005047743942,0.5000004882259363,0.5000004722200005,0.5000004567388009,0.5000004417651346,0.5000004272823623,0.5000004132743913,0.5000003997256555,0.5000003866210991,0.5000003739461608,0.500000361686756,0.5000003498292614,0.5000003383605015,0.5000003272677316,0.5000003165386256,0.5000003061612611,0.5000002961241068,0.5000002864160089,0.5000002770261803,0.5000002679441864,0.5000002591599353,0.5000002506636662,0.5000002424459374,0.5000002344976177,0.5000002268098747,0.5000002193741655,0.5000002121822279,0.5000002052260697,0.5000001984979616,0.5000001919904266,0.500000185696234,0.5000001796083894,0.5000001737201278,0.5000001680249067,0.5000001625163965,0.5000001571884769,0.5000001520352271,0.5000001470509209,0.5000001422300197,0.5000001375671662,0.500000133057179,0.5000001286950471,0.5000001244759226,0.5000001203951171,0.5000001164480966,0.5000001126304747,0.5000001089380094,0.5000001053665972,0.5000001019122701,0.500000098571189,0.5000000953396417,0.5000000922140372,0.5000000891909017,0.5000000862668766,0.5000000834387125,0.5000000807032665,0.5000000780574991,0.5000000754984704,0.5000000730233364,0.5000000706293469,0.5000000683138418,0.5000000660742482,0.5000000639080767,0.500000061812921,0.5000000597864528,0.5000000578264198,0.5000000559306446,0.5000000540970202,0.5000000523235089,0.5000000506081405,0.5000000489490084,0.5000000473442695,0.5000000457921392,0.5000000442908953,0.500000042838866,0.5000000414344429,0.5000000400760574,0.5000000387622127,0.500000037491429,0.5000000362623248,0.5000000350734881,0.5000000339236671,0.5000000328114805,0.5000000317358461,0.5000000306953426,0.5000000296891438,0.5000000287156531,0.5000000277744778,0.5000000268635889,0.5000000259833648,0.5000000251308785,0.5000000243078841,0.5000000235097577,0.5000000227406396,0.5000000219929424,0.5000000212747484,0.5000000205736733,0.5000000199038536,0.5000000192457256,0.5000000186218425,0.5000000180029244,0.5000000174220595,0.500000016838852,0.5000000162983024,0.5000000157499681,0.5000000152495544,0.5000000147384057,0.5000000142765282,0.5000000137979838,0.5000000133619954,0.5000000129010271,0.5000000124803177,0.5000000120353739,0.5000000116416873,0.5000000112260402,0.5000000108702741,0.5000000104899646,0.5000000101766782,0.5000000098417529,0.5000000095796246,0.5000000092960649,0.5000000090914223,0.5000000088657446,0.5000000087258643,0.5000000085656094],\"phi\":[-0.010556309743034158,-0.010603031923604973,-0.010433252298367094,-0.01046094646456515,-0.010291929326911824,-0.010325132546211693,-0.01016670895117126,-0.01018007321012948,-0.010017230963346651,-0.0100206379387497,-0.009898904040838446,-0.00994932304401002,-0.009819531838732574,-0.009857016854078261,-0.009730631486884115,-0.009840813398359507,-0.009835559496898611,-0.010000284163758418,-0.010017603323220011,-0.01011007650113163,-0.010059299508901828,-0.010075930403656572,-0.009995254480466514,-0.010019903437215616,-0.009959202274644575,-0.01001805012017759,-0.00996904577147238,-0.010038064692347025,-0.009984969347131533,-0.010047506134198511,-0.009993247225138379,-0.01004692069714022,-0.00999983207770086,-0.01004463026115894,-0.01000815815355975,-0.010043388512136904,-0.010017026487090335,-0.010042982474234428,-0.010025028843811247,-0.010043248452245992,-0.010031829301236129,-0.010044252592973387,-0.010037575302474903,-0.010045937581282192,-0.010042470401617001,-0.010048119257130067,-0.010046694326003799,-0.010050598325234274,-0.010050400855140926,-0.010053214147503344,-0.010053710458061527,-0.010055850748936685,-0.0100567077713939,-0.010058429308266524,-0.010059447687858096,-0.010060899304666806,-0.01006196428788611,-0.010063230495494265,-0.010064278575927245,-0.010065406421213717,-0.010066404060748527,-0.010067419701606838,-0.010068350435984566,-0.010069268899931351,-0.010070125836052208,-0.010070956524705663,-0.010071738106694239,-0.010072487771354024,-0.010073195439003162,-0.010073869713893763,-0.010074506615937309,-0.010075110757867491,-0.0100756810348776,-0.010076220240506353,-0.010076728607970367,-0.010077208114062474,-0.010077659601732002,-0.010078084679140108,-0.010078484452660552,-0.010078860352613107,-0.01007921358086106,-0.010079545464149714,-0.010079857214955792,-0.01008015007985132,-0.01008042523625167,-0.01008068385321872,-0.010080927046748619,-0.010081155903893595,-0.010081371463249413,-0.010081574724150116,-0.0100817666381317,-0.010081948112362803,-0.010082120006052806,-0.010082283131899562,-0.01008243825487704,-0.010082586093205236,-0.010082727318400346,-0.01008286255632148,-0.010082992387965497,-0.010083117350752542,-0.010083237939795563,-0.01008335460943012,-0.010083467774792697,-0.010083577813541699,-0.010083685067626814,-0.010083789845131554,-0.01008389242214147,-0.01008399304463883,-0.010084091930396232,-0.010084189270861793,-0.010084285233018818,-0.010084379961210988,-0.010084473578921761,-0.010084566190500625,-0.010084657882827629,-0.010084748726912146,-0.010084838779419732,-0.01008492808412426,-0.010085016673282625,-0.010085104568930858,-0.010085191784100077,-0.010085278323953275,-0.010085364186842983,-0.010085449365291432,-0.010085533846894567,-0.010085617615152639,-0.010085700650229701,-0.0100857829296445,-0.010085864428896378,-0.010085945122028853,-0.010086024982134612,-0.010086103981805185,-0.010086182093528457,-0.010086259290037857,-0.010086335544616173,-0.010086410831357877,-0.010086485125392404,-0.010086558403072345,-0.01008663064212887,-0.010086701821797864,-0.01008677192291896,-0.010086840928010508,-0.01008690882132289,-0.01008697558887207,-0.010087041218456256,-0.010087105699657116,-0.010087169023827515,-0.010087231184067902,-0.01008729217519251,-0.010087351993686952,-0.010087410637658499,-0.010087468106780875,-0.010087524402233441,-0.010087579526637075,-0.010087633483986756,-0.010087686279582115,-0.010087737919956565,-0.010087788412805542,-0.010087837766914385,-0.010087885992086824,-0.010087933099073895,-0.010087979099503772,-0.010088024005813392,-0.010088067831181161,-0.010088110589461994,-0.010088152295124301,-0.010088192963188782,-0.010088232609170055,-0.010088271249020375,-0.010088308899075766,-0.010088345576004751,-0.010088381296759638,-0.010088416078530256,-0.010088449938699926,-0.010088482894804268,-0.010088514964492373,-0.01008854616549,-0.01008857651556556,-0.010088606032497909,-0.010088634734046696,-0.010088662637924626,-0.010088689761771772,-0.010088716123131659,-0.010088741739429755,-0.010088766627953097,-0.01008879080583216,-0.010088814290023998,-0.010088837097297023,-0.010088859244217435,-0.010088880747136852,-0.010088901622181195,-0.010088921885241142,-0.010088941551963278,-0.01008896063774281,-0.010088979157716888,-0.010088997126759326,-0.010089014559475919,-0.01008903147020048,-0.0100890478729923,-0.010089063781633335,-0.010089079209627224,-0.010089094170197944,-0.010089108676289689,-0.010089122740566725,-0.01008913637541447,-0.010089149592940284,-0.01008916240497515,-0.010089174823075598,-0.010089186858525797,-0.010089198522340293,-0.010089209825266721,-0.010089220777788968,-0.010089231390130415,-0.010089241672257554,-0.010089251633883552,-0.010089261284472215,-0.01008927063324191,-0.010089279689169577,-0.010089288460995141,-0.010089296957225642,-0.010089305186139508,-0.010089313155791138,-0.010089320874015265,-0.01008932834843138,-0.010089335586448228,-0.010089342595268365,-0.010089349381892567,-0.010089355953124433,-0.010089362315574734,-0.010089368475665862,-0.010089374439636256,-0.010089380213544946,-0.010089385803275477,-0.010089391214540682,-0.010089396452886482,-0.010089401523696338,-0.010089406432195391,-0.010089411183454241,-0.010089415782393203,-0.01008942023378618,-0.01008942454226454,-0.010089428712320811,-0.010089432748312498,-0.01008943665446581,-0.010089440434878964,-0.010089444093526091,-0.0100894476342603,-0.010089451060817385,-0.010089454376818768,-0.010089457585774944,-0.010089460691088776,-0.010089463696058069,-0.010089466603879091,-0.010089469417649231,-0.010089472140369857,-0.010089474774949217,-0.010089477324205265,-0.010089479790867892,-0.010089482177581958,-0.010089484486909628,-0.01008948672133275,-0.010089488883255416,-0.01008949097500619,-0.010089492998840372,-0.010089494956942183,-0.010089496851427054,-0.010089498684343497,-0.010089500457675305,-0.010089502173343355,-0.010089503833207798,-0.010089505439069588,-0.010089506992672559,-0.010089508495705059,-0.010089509949801614,-0.010089511356544869,-0.010089512717466676,-0.010089514034050222,-0.01008951530773119,-0.010089516539899335,-0.01008951773190003,-0.010089518885035412,-0.010089520000565953,-0.010089521079711642,-0.010089522123653312,-0.010089523133533824,-0.01008952411045945,-0.010089525055500573,-0.010089525969693449,-0.010089526854040671,-0.010089527709512687,-0.010089528537048628,-0.010089529337557216,-0.010089530111917955,-0.010089530860981901,-0.01008953158557265,-0.010089532286487023,-0.010089532964496231,-0.010089533620346404,-0.010089534254759632,-0.010089534868434526,-0.010089535462047142,-0.010089536036251467,-0.010089536591680492,-0.010089537128946493,-0.010089537648642012,-0.010089538151340251,-0.01008953863759586,-0.010089539107945453,-0.01008953956290824,-0.010089540002986518,-0.010089540428666253,-0.010089540840417653,-0.010089541238695515,-0.01008954162394003,-0.010089541996576915,-0.010089542357018035,-0.01008954270566189,-0.010089543042894005,-0.010089543369087357,-0.010089543684602695,-0.010089543989789078,-0.01008954428498417,-0.010089544570514626,-0.010089544846696444,-0.01008954511383538,-0.010089545372227079,-0.010089545622157674,-0.010089545863903898,-0.010089546097733505,-0.01008954632390535,-0.010089546542670094,-0.010089546754270012,-0.01008954695893954,-0.010089547156905456,-0.010089547348387145,-0.010089547533596754,-0.010089547712739606,-0.010089547886014285,-0.0100895480536128,-0.010089548215720967,-0.010089548372518535,-0.010089548524179322,-0.010089548670871492,-0.010089548812757766,-0.010089548949995432,-0.010089549082736755,-0.010089549211128899,-0.010089549335314335,-0.010089549455430774,-0.010089549571611513,-0.010089549683985346,-0.010089549792677042,-0.010089549897807186,-0.010089549999492372,-0.01008955009784549,-0.010089550192975638,-0.010089550284988397,-0.010089550373985906,-0.010089550460066874,-0.010089550543326888,-0.010089550623858362,-0.010089550701750667,-0.010089550777090254,-0.010089550849960745,-0.010089550920443072,-0.010089550988615437,-0.010089551054553591,-0.010089551118330653,-0.01008955118001747,-0.010089551239682503,-0.010089551297392025,-0.01008955135321008,-0.010089551407198699,-0.010089551459417768,-0.010089551509925288,-0.010089551558777398,-0.010089551606028282,-0.010089551651730418,-0.01008955169593458,-0.010089551738689851,-0.010089551780043704,-0.010089551820042114,-0.0100895518587294,-0.01008955189614859,-0.0100895519323413,-0.010089551967347614,-0.010089552001206458,-0.010089552033955514,-0.010089552065631047,-0.010089552096268278,-0.010089552125901225,-0.010089552154562843,-0.010089552182284953,-0.010089552209098311,-0.010089552235032781,-0.010089552260117044,-0.010089552284379107,-0.010089552307845822,-0.010089552330543287,-0.010089552352496717,-0.010089552373730486,-0.010089552394268262,-0.010089552414132744,-0.010089552433346024,-0.010089552451929528,-0.010089552469903814,-0.010089552487288865,-0.010089552504104048,-0.010089552520367957,-0.010089552536098764,-0.010089552551313883,-0.01008955256603019,-0.01008955258026408,-0.0100895525940314,-0.01008955260734737,-0.010089552620226826,-0.010089552632684046,-0.010089552644732908,-0.01008955265638678,-0.010089552667658618,-0.010089552678560964,-0.01008955268910587,-0.010089552699305093,-0.010089552709169976,-0.010089552718711477,-0.010089552727940165,-0.010089552736866318,-0.010089552745499816,-0.010089552753850315,-0.01008955276192705,-0.01008955276973905,-0.010089552777294907,-0.010089552784603065,-0.010089552791671669,-0.010089552798508523,-0.010089552805121225,-0.010089552811517157,-0.010089552817703427,-0.010089552823686891,-0.010089552829474187,-0.01008955283507177,-0.010089552840485834,-0.010089552845722443,-0.010089552850787333,-0.010089552855686194,-0.010089552860424473,-0.010089552865007394,-0.010089552869440082,-0.010089552873727446,-0.010089552877874285,-0.010089552881885155,-0.010089552885764512,-0.010089552889516747,-0.010089552893145908,-0.010089552896656126,-0.010089552900051289,-0.010089552903335094,-0.010089552906511286,-0.010089552909583339,-0.010089552912554686,-0.010089552915428622,-0.010089552918208332,-0.010089552920896904,-0.010089552923497346,-0.010089552926012555,-0.010089552928445274,-0.010089552930798261,-0.010089552933074094,-0.010089552935275302,-0.010089552937404378,-0.010089552939463644,-0.010089552941455403,-0.010089552943381864,-0.010089552945245195,-0.010089552947047385,-0.010089552948790508,-0.010089552950476508,-0.010089552952107238,-0.01008955295368449,-0.010089552955210062,-0.010089552956685555,-0.010089552958112728,-0.010089552959493125,-0.010089552960828238,-0.01008955296211955,-0.010089552963368604,-0.010089552964576672,-0.010089552965745116,-0.01008955296687524,-0.010089552967968374,-0.01008955296902565,-0.010089552970048276,-0.01008955297103732,-0.010089552971993973,-0.01008955297291929,-0.010089552973814274,-0.010089552974679877,-0.010089552975517127,-0.01008955297632689,-0.010089552977110125,-0.010089552977867683,-0.010089552978600438,-0.010089552979309161,-0.010089552979994627,-0.010089552980657642,-0.010089552981298894,-0.010089552981919155,-0.010089552982519037,-0.01008955298309928,-0.010089552983660509,-0.010089552984203356,-0.010089552984728339,-0.010089552985236188,-0.010089552985727366,-0.010089552986202382,-0.01008955298666189,-0.010089552987106301,-0.010089552987536164,-0.010089552987951948,-0.010089552988354062,-0.01008955298874301,-0.010089552989119203,-0.01008955298948304,-0.01008955298983502,-0.010089552990175395,-0.010089552990504647,-0.010089552990823073,-0.010089552991131075,-0.010089552991429001,-0.010089552991717163,-0.010089552991995807,-0.010089552992265393,-0.010089552992526103,-0.010089552992778271,-0.010089552993022187,-0.010089552993258082,-0.010089552993486286,-0.01008955299370697,-0.01008955299392043,-0.01008955299412689,-0.0100895529943266,-0.010089552994519715,-0.010089552994706515,-0.010089552994887235,-0.010089552995061982,-0.010089552995231045,-0.010089552995394522,-0.010089552995552661,-0.010089552995705624,-0.010089552995853538,-0.010089552995996657,-0.010089552996134983,-0.010089552996268956,-0.0100895529963983,-0.010089552996523738,-0.010089552996644512,-0.010089552996762164,-0.010089552996874708,-0.010089552996985423,-0.01008955299708982,-0.010089552997194653,-0.010089552997290502,-0.010089552997391128,-0.010089552997477243,-0.010089552997576363,-0.010089552997650115,-0.010089552997751954,-0.01008955299780873,-0.010089552997919726,-0.010089552997952327,-0.010089552998082093,-0.010089552998081296,-0.010089552998242884,-0.010089552998197962,-0.010089552998402295,-0.01008955299829757,-0.010089552998541886,-0.010089552998363139,-0.01008955299864533,-0.010089552998428161,-0.010089552998792346,-0.010089552998630747,-0.010089552999087781,-0.010089552998933547,-0.01008955299927297,-0.010089552998871893,-0.010089552998930615,-0.010089552998302836,-0.010089552998362068,-0.010089552997810917,-0.010089552998112572,-0.01008955299777466,-0.010089552998455237,-0.010089552996955294,-0.010089553055103515,-0.010089551253406536,-0.010089593033778968,-0.010087928574609828,-0.010038889086082645,-0.009990955954057235],\"q\":[0.364932839378315,0.3119092372818602,0.3446550245643951,0.2987340767596031,0.32574688453496403,0.27648125719358885,0.3128040770361733,0.2675086330435442,0.2698932572908357,0.22955555823462542,0.2564413097931986,0.22604955801133425,0.2598313356424363,0.18492808143373393,0.21901436048379508,0.17105425839212463,0.241540488899035,0.23808954751780684,0.2910337271876481,0.2759669039254894,0.2823166308811997,0.24750059169860045,0.24726184540457943,0.21560609452012963,0.23819126677189334,0.20787441868000642,0.24565732569374185,0.20680152641272656,0.24772907281103437,0.2026536681145136,0.24191880124548598,0.19842111682742214,0.23338244662194038,0.19629666399195722,0.22459602195806166,0.19520757754823573,0.2159362718415194,0.19380524198867893,0.20762985200123976,0.19159507242633786,0.19993599678237844,0.18856931380081463,0.1929216459401345,0.1848559338113161,0.18649055668412967,0.18061504063915,0.18049936111705855,0.1760071567566726,0.17482117366043412,0.17117036257202026,0.1693622135360908,0.16621033717358644,0.16406064321704467,0.16120254552341137,0.15888035144872728,0.15619929028776372,0.15380369392680102,0.151236780941322,0.14882503320841933,0.14634063231242658,0.1439458561537081,0.1415296752576957,0.1391714592919418,0.13681839597737372,0.13450885062842688,0.1322183969661853,0.12996548491042495,0.12773922385748085,0.12554853079192743,0.12338881269962607,0.12126446238390795,0.11917372576089325,0.11711884329679889,0.11509927837440705,0.11311622399543277,0.11116961556778594,0.1092601068039997,0.10738777020622986,0.10555295276153473,0.1037557185850405,0.10199621566467983,0.10027444056704507,0.09859039461174211,0.09694398660001631,0.09533509947269547,0.0937635514923223,0.0922291253138826,0.09073155363636948,0.08927053266412131,0.08784571787064936,0.08645673102324129,0.08510316004759862,0.0837845633850923,0.08250047145553986,0.08125038986690054,0.08003380143480651,0.07885016884171,0.0776989367767145,0.07657953426980221,0.0754913767661543,0.07443386821595076,0.07340640300270403,0.07240836781546266,0.07143914339668384,0.07049810620618863,0.06958462997573067,0.06869808717036083,0.06783785034813707,0.06700329342566695,0.06619379284801448,0.06540872866757755,0.0646474855334287,0.06390945359497487,0.06319402932272766,0.06250061624994119,0.06182862563851992,0.06117747707298612,0.060546598986155074,0.059935429120315985,0.05934341492763466,0.05877001391349386,0.05821469392639844,0.05767693339806065,0.05715622153708026,0.05665205847967192,0.05616395540062341,0.05569143458767904,0.05523402948229857,0.05479128468969354,0.05436275596084221,0.053948010149074535,0.05354662514367208,0.05315818978277292,0.05278230374774344,0.05241857744106241,0.052066631849581956,0.05172609839494851,0.05139661877281768,0.05107784478237477,0.050769438147589906,0.05047107033147301,0.05018242234454078,0.049903184548592175,0.04963305645677036,0.0493717465308512,0.04911897197656817,0.04887445853773457,0.04863794028984192,0.04840915943374524,0.04818786608998991,0.04797381809425974,0.04776678079440025,0.04756652684938509,0.047372836030583815,0.04718549502561286,0.04700429724504693,0.04682904263219435,0.046659537476138824,0.046495594228211305,0.04633703132200976,0.0461836729970943,0.04603534912642971,0.045891895047642066,0.04575315139815223,0.045618963954193174,0.04548918347374447,0.04536366554338739,0.04524227042905601,0.04512486293069138,0.045011312240735644,0.044901491806468546,0.04479527919610935,0.04469255596866132,0.04459320754741887,0.04449712309709862,0.04440419540452871,0.0443143207628058,0.04422739885889369,0.044143332664547265,0.04406202833052403,0.043983395083991544,0.043907345129052866,0.043833793550334434,0.04376265821953487,0.043693859704879726,0.04362732118339457,0.043562968355932104,0.043500729364862545,0.04344053471437243,0.04338231719328981,0.043326011800355134,0.04327155567189522,0.0432188880117939,0.04316795002372663,0.0431186848455607,0.04307103748588471,0.04302495476258936,0.0429803852434207,0.04293727918848571,0.04289558849461389,0.04285526664152718,0.04281626863977629,0.04277855098036799,0.04274207158603453,0.042706789764118035,0.04267266616096736,0.04263966271785612,0.04260774262833497,0.04257687029698157,0.04254701129951556,0.042518132344214206,0.042490201234602704,0.04246318683337527,0.0424370590274912,0.042411788694439165,0.04238734766959377,0.04236370871466261,0.04234084548716704,0.04231873251092505,0.04229734514751911,0.04227665956869217,0.04225665272966229,0.042237302343319474,0.04221858685525976,0.04220048541966579,0.04218297787596198,0.042166044726249796,0.042149667113490406,0.04213382680040088,0.04211850614904734,0.04210368810111769,0.04208935615883975,0.042075494366526904,0.04206208729274349,0.0420491200130404,0.042036578093283095,0.04202444757350859,0.04201271495232806,0.042001367171836806,0.041990391603028095,0.04197977603168224,0.04196950864472238,0.04195957801702481,0.0419499730986547,0.041940683202535294,0.041931697992508545,0.041923007471803095,0.041914601971872745,0.04190647214160809,0.04189860893690295,0.04189100361055549,0.041883647702521204,0.041876533030465506,0.04186965168064332,0.04186299599906908,0.04185655858298604,0.04185033227260447,0.0418443101431262,0.041838485497019344,0.04183285185655805,0.04182740295659348,0.041822132737580654,0.04181703533881853,0.041812105091921827,0.041807336514508284,0.04180272430408044,0.041798263332131554,0.0417939486384218,0.04178977542545848,0.041785739053150535,0.041781835033641586,0.04177805902631106,0.04177440683294044,0.04177087439304078,0.04176745777932875,0.04176415319335538,0.041760956961275776,0.04175786552976059,0.04175487546204159,0.04175198343408418,0.04174918623088725,0.04174648074290673,0.04174386396259174,0.041741332981042864,0.04173888498476842,0.041736517252558766,0.04173422715245432,0.041732012138821585,0.04172986974951705,0.041727797603146696,0.041725793396422774,0.04172385490159361,0.0417219799639723,0.041720166499532384,0.04171841249259681,0.04171671599359148,0.04171507511687751,0.041713488038656016,0.04171195299493317,0.04171046827956751,0.04170903224236597,0.04170764328724868,0.041706299870477075,0.041705000498934865,0.04170374372846848,0.04170252816228241,0.041701352449380814,0.04170021528307174,0.041699115399509365,0.04169805157629131,0.04169702263109919,0.04169602742038139,0.04169506483808674,0.04169413381442815,0.04169323331469816,0.04169236233811832,0.04169151991672289,0.041690705114285506,0.04168991702527837,0.04168915477386582,0.04168841751292704,0.041687704423121266,0.041687014711967924,0.04168634761297441,0.04168570238477747,0.04168507831032295,0.04168447469606756,0.04168389087120634,0.041683326186930963,0.041682780015701616,0.04168225175055982,0.041681740804441626,0.0416812466095352,0.04168076861664511,0.0416803062945799,0.041679859129567016,0.04167942662467941,0.04167900829927657,0.04167860368848542,0.04167821234266764,0.041677833826930175,0.04167746772063724,0.041677113616944046,0.04167677112234681,0.041676439856239644,0.04167611945049722,0.04167580954906607,0.04167550980755959,0.04167521989288896,0.04167493948288275,0.041674668265932045,0.04167440594064596,0.0416741522155112,0.04167390680857722,0.04167366944713242,0.041673439867409394,0.041673217814286616,0.04167300304100798,0.04167279530890682,0.041672594387140695,0.04167240005243687,0.041672212088840456,0.0416720302874799,0.041671854446327594,0.04167168436998254,0.041671519869447865,0.041671360761924285,0.0416712068706048,0.04167105802448115,0.04167091405814655,0.04167077481162327,0.041670640130173714,0.0416705098641359,0.04167038386875312,0.04167026200401461,0.04167014413450072,0.0416700301292309,0.04166991986151863,0.041669813208830626,0.04166971005265163,0.04166961027835131,0.04166951377505597,0.04166942043553078,0.04166933015605181,0.04166924283630008,0.041669158379241164,0.04166907669102498,0.041668997680878415,0.041668921261000934,0.041668847346475676,0.041668775855163875,0.04166870670762445,0.04166863982701904,0.04166857513902736,0.04166851257176623,0.041668452055711125,0.041668393523612915,0.04166833691043139,0.041668282153254244,0.04166822919123736,0.04166817796552516,0.0416681284191966,0.04166808049719241,0.04166803414626305,0.04166798931490033,0.04166794595328858,0.041667904013241316,0.041667863448156484,0.04166782421295534,0.04166778626403865,0.041667749559238736,0.0416677140577668,0.04166767972017404,0.041667646508302424,0.041667614385248755,0.04166758331531457,0.04166755326397455,0.04166752419783821,0.041667496084602754,0.04166746889303084,0.04166744259290609,0.04166741715500163,0.04166739255105309,0.04166736875371818,0.04166734573655488,0.04166732347398374,0.04166730194126721,0.041667281114477955,0.041667260970473186,0.04166724148686767,0.04166722264201139,0.041667204414963764,0.041667186785469976,0.041667169733940045,0.04166715324142694,0.04166713728960259,0.041667121860741965,0.04166710693769963,0.04166709250389302,0.04166707854328417,0.04166706504035678,0.041667051980110933,0.041667039348029615,0.04166702713007716,0.04166701531267733,0.041667003882699324,0.04166699282743945,0.041666982134614554,0.04166697179234289,0.041666961789130756,0.04166695211386333,0.04166694275578862,0.0416669337045081,0.04166692494996561,0.04166691648242972,0.041666908292493345,0.04166690037105513,0.041666892709312654,0.04166688529875113,0.041666878131137855,0.04166687119850681,0.04166686449315459,0.04166685800763077,0.041666851734725584,0.041666845667472335,0.041666839799126644,0.04166683412316925,0.041666828633291166,0.041666823323393117,0.04166681818757458,0.041666813220126935,0.04166680841553288,0.04166680376845134,0.0416667992737207,0.04166679492634354,0.04166679072148987,0.04166678665448947,0.04166678272082028,0.04166677891611201,0.04166677523613714,0.04166677167680631,0.04166676823416411,0.04166676490438524,0.041666761683769385,0.04166675856873788,0.04166675555582951,0.04166675264169642,0.04166674982309878,0.04166674709690688,0.04166674446009001,0.04166674190971787,0.041666739442956804,0.041666737057066354,0.04166673474939438,0.04166673251737691,0.041666730358533854,0.04166672827046583,0.04166672625085346,0.04166672429745098,0.041666722408088705,0.041666720580667546,0.04166671881315676,0.041666717103591204,0.04166671545007164,0.04166671385076191,0.04166671230388269,0.04166671080771695,0.041666709360601586,0.041666707960927356,0.0416667066071411,0.04166670529773602,0.04166670403125834,0.0416667028063023,0.04166670162150335,0.04166670047554817,0.0416666993671603,0.04166669829511146,0.04166669725820707,0.04166669625529682,0.041666695285266925,0.04166669434703742,0.041666693439566485,0.04166669256184621,0.041666691712901625,0.04166669089178872,0.04166669009759449,0.041666689329437095,0.04166668858646343,0.041666687867846455,0.041666687172789395,0.04166668650051907,0.04166668585028772,0.04166668522137339,0.041666684613077765,0.04166668402472479,0.0416666834556601,0.04166668290525104,0.04166668237288721,0.04166668185797591,0.04166668135994536,0.04166668087824286,0.041666680412331646,0.04166667996169601,0.04166667952583214,0.04166667910425886,0.041666678696504506,0.041666678302122666,0.0416666779206628,0.04166667755172002,0.041666677194853986,0.04166667684971619,0.04166667651585004,0.04166667619299484,0.04166667588062496,0.0416666755786459,0.041666675286340986,0.041666675003956107,0.04166667473032812,0.04166667446641039,0.041666674210061684,0.041666673963690656,0.04166667372313019,0.041666673493691894,0.04166667326719485,0.04166667305454192,0.04166667283994993,0.04166667264462123,0.041666672439120395,0.04166667226259452,0.041666672062526444,0.0416666719072544,0.04166667170800948,0.041666671576850334,0.041666671373340215,0.04166667126885896,0.04166667105829366,0.0416666709828877,0.04166667076856177,0.04166667072056195,0.04166667050630914,0.04166667046726269,0.04166667024769787,0.04166667019289927,0.04166666997927862,0.041666669929637225,0.04166666976531068,0.04166666975963006,0.041666669631604744,0.04166666964187445,0.04166666949728488,0.04166666950925982,0.041666669363884495,0.04166666937138886,0.041666669219472804,0.041666669201657035,0.0416666690390392,0.041666669004989644,0.041666668817551586,0.04166666875344371,0.04166666870971921],\"s\":[1.6440118345270474e-17,-9.089660032864004e-18,0.0,7.971777099091373e-18,-4.747849235547592e-17,-6.54485261677641e-19,6.46689364531119e-18,-1.798120960747545e-17,6.439315583459162e-17,-1.0840768692666366e-18,6.524980871935611e-18,-2.9815836223108164e-18,-3.3391930122165267e-18,-3.3066015319298252e-18,-3.8061560868920055e-17,4.472005566458057e-19,-5.347027702878802e-19,2.2697695400318624e-19,-5.297727089953356e-18,4.743135498123707e-20,-1.5273415920403687e-17,7.13180396423027e-19,1.2064553797484335e-18,-9.48656561988083e-19,-5.390719477448894e-20,3.7945668409620544e-19,3.902698918362188e-18,3.388071769735788e-19,-1.3687920472404157e-18,9.486680149957403e-20,-5.880818164912835e-18,0.0,-4.336588399184127e-18,0.0,0.0,0.0,0.0,0.0,0.0,0.0,0.0,0.0,0.0,0.0,0.0,0.0,0.0,0.0,0.0,0.0,0.0,0.0,0.0,0.0,0.0,0.0,0.0,0.0,0.0,0.0,0.0,0.0,0.0,0.0,0.0,0.0,0.0,0.0,0.0,0.0,0.0,0.0,0.0,0.0,0.0,0.0,0.0,0.0,0.0,0.0,0.0,0.0,0.0,0.0,0.0,0.0,0.0,0.0,0.0,0.0,0.0,0.0,0.0,0.0,0.0,0.0,0.0,0.0,0.0,0.0,0.0,0.0,0.0,0.0,0.0,0.0,0.0,0.0,0.0,0.0,0.0,0.0,0.0,0.0,0.0,0.0,0.0,0.0,0.0,0.0,0.0,0.0,0.0,0.0,0.0,0.0,0.0,0.0,0.0,0.0,0.0,0.0,0.0,0.0,0.0,0.0,0.0,0.0,0.0,0.0,0.0,0.0,0.0,0.0,0.0,0.0,0.0,0.0,0.0,0.0,0.0,0.0,0.0,0.0,0.0,0.0,0.0,0.0,0.0,0.0,0.0,0.0,0.0,0.0,0.0,0.0,0.0,0.0,0.0,0.0,0.0,0.0,0.0,0.0,0.0,0.0,0.0,0.0,0.0,0.0,0.0,0.0,0.0,0.0,0.0,0.0,0.0,0.0,0.0,0.0,0.0,0.0,0.0,0.0,0.0,0.0,0.0,0.0,0.0,0.0,0.0,0.0,0.0,0.0,0.0,0.0,0.0,0.0,0.0,0.0,0.0,0.0,0.0,0.0,0.0,0.0,0.0,0.0,0.0,0.0,0.0,0.0,0.0,0.0,0.0,0.0,0.0,0.0,0.0,0.0,0.0,0.0,0.0,0.0,0.0,0.0,0.0,0.0,0.0,0.0,0.0,0.0,0.0,0.0,0.0,0.0,0.0,0.0,0.0,0.0,0.0,0.0,0.0,0.0,0.0,0.0,0.0,0.0,0.0,0.0,0.0,0.0,0.0,0.0,0.0,0.0,0.0,0.0,0.0,0.0,0.0,0.0,0.0,0.0,0.0,0.0,0.0,0.0,0.0,0.0,0.0,0.0,0.0,0.0,0.0,0.0,0.0,0.0,0.0,0.0,0.0,0.0,0.0,0.0,0.0,0.0,0.0,0.0,0.0,0.0,0.0,0.0,0.0,0.0,0.0,0.0,0.0,0.0,0.0,0.0,0.0,0.0,0.0,0.0,0.0,0.0,0.0,0.0,0.0,0.0,0.0,0.0,0.0,0.0,0.0,0.0,0.0,0.0,0.0,0.0,0.0,0.0,0.0,0.0,0.0,0.0,0.0,0.0,0.0,0.0,0.0,0.0,0.0,0.0,0.0,0.0,0.0,0.0,0.0,0.0,0.0,0.0,0.0,0.0,0.0,0.0,0.0,0.0,0.0,0.0,0.0,0.0,0.0,0.0,0.0,0.0,0.0,0.0,0.0,0.0,0.0,0.0,0.0,0.0,0.0,0.0,0.0,0.0,0.0,0.0,0.0,0.0,0.0,0.0,0.0,0.0,0.0,0.0,0.0,0.0,0.0,0.0,0.0,0.0,0.0,0.0,0.0,0.0,0.0,0.0,0.0,0.0,0.0,0.0,0.0,0.0,0.0,0.0,0.0,0.0,0.0,0.0,0.0,0.0,0.0,0.0,0.0,0.0,0.0,0.0,0.0,0.0,0.0,0.0,0.0,0.0,0.0,0.0,0.0,0.0,0.0,0.0,0.0,0.0,0.0,0.0,0.0,0.0,0.0,0.0,0.0,0.0,0.0,0.0,0.0,0.0,0.0,0.0,0.0,0.0,0.0,0.0,0.0,0.0,0.0,0.0,0.0,0.0,0.0,0.0,0.0,0.0,0.0,0.0,0.0,0.0,0.0,0.0,0.0,0.0,0.0,0.0,0.0,0.0,0.0,0.0,0.0,0.0,0.0,0.0,0.0,0.0,0.0,0.0,0.0,0.0,0.0,0.0,0.0,0.0,0.0,0.0,0.0,0.0,0.0,0.0,0.0,0.0,0.0,0.0,0.0,0.0,0.0,0.0,0.0,0.0,0.0,0.0,0.0,0.0,0.0,0.0,0.0,0.0,0.0,0.0,0.0,0.0,0.0,0.0,0.0,0.0,0.0,0.0,0.0,0.0,0.0,0.0,0.0,0.0,0.0,0.0,0.0,0.0,0.0,0.0,0.0,0.0,0.0,0.0,0.0,0.0,0.0,0.0,0.0,0.0,0.0,0.0,0.0,0.0,0.0,0.0,0.0,0.0,0.0,0.0,0.0,0.0,0.0,0.0,0.0,0.0,0.0,0.0,0.0,0.0,0.0,0.0,0.0,0.0,0.0,0.0,0.0,0.0,0.0,0.0,0.0,0.0,0.0,0.0,0.0,0.0,0.0,0.0,0.0,0.0,0.0,0.0,0.0,0.0,0.0,0.0,0.0,0.0,0.0,0.0,0.0,0.0,0.0,0.0],\"theta\":[0.9901100723682267,0.9900904532205422,0.9901083714559221,0.9900967247296872,0.9901157181873815,0.990104992859529,0.9901223008980748,0.9901118836309705,0.9901269030695917,0.9901165330542632,0.9901291534849922,0.9901190262676695,0.9901295077761857,0.9901198542059835,0.9901282613903137,0.9901195586957395,0.99012670952772,0.9901199646887427,0.9901269967074283,0.9901219661191332,0.9901287063995586,0.9901245326981591,0.9901304262875037,0.9901267151910921,0.9901317113320894,0.9901286471587957,0.990132937978646,0.9901307053972408,0.9901343814260897,0.9901329506559317,0.9901360415097851,0.990135300667168,0.9901378763701587,0.9901377136847769,0.9901398885379691,0.9901401968524348,0.9901420912748444,0.9901427686930497,0.9901444867248229,0.9901454458676204,0.9901470700592433,0.9901482439293992,0.9901498362452509,0.9901511776553773,0.9901527822053809,0.9901542600013526,0.9901559067504251,0.9901575015414407,0.9901592101444552,0.9901609105901288,0.9901626936332172,0.9901644935481592,0.9901663589486529,0.9901682552124893,0.9901702078498018,0.9901721989920534,0.9901742417469478,0.9901763270345117,0.9901784614137522,0.9901806402818496,0.9901828667716096,0.9901851384760381,0.9901874567284997,0.9901898201351654,0.99019222905873,0.9901946825167316,0.9901971803146264,0.9901997215804745,0.9902023057650108,0.9902049319594282,0.9902075993580013,0.9902103069451859,0.9902130537072699,0.9902158384913574,0.9902186601016908,0.9902215172377469,0.9902244085384907,0.9902273325566163,0.9902302877797998,0.9902332726214385,0.9902362854320588,0.9902393244976659,0.990242388047154,0.9902454742542628,0.9902485812435279,0.9902517070940257,0.990254849844909,0.9902580075000913,0.9902611780337458,0.9902643593954978,0.9902675495159795,0.9902707463122674,0.9902739476934628,0.9902771515661952,0.9902803558401378,0.9902835584334321,0.9902867572780382,0.9902899503249529,0.99029313554929,0.9902963109551857,0.990299474580512,0.9903026245013751,0.990305758836381,0.990308875750651,0.9903119734595741,0.9903150502322805,0.9903181043948309,0.9903211343331131,0.9903241384954365,0.9903271153948281,0.990330063611023,0.9903329817921557,0.9903358686561515,0.990338722991823,0.9903415436596845,0.9903443295924802,0.99034707979545,0.9903497933463312,0.9903524693951178,0.9903551071635801,0.9903577059445704,0.9903602651011149,0.9903627840653184,0.9903652623370878,0.9903676994826968,0.9903700951332003,0.9903724489827165,0.9903747607865925,0.990377030359466,0.990379257573238,0.9903814423549706,0.9903835846847215,0.990385684593332,0.9903877421601742,0.9903897575108761,0.9903917308150292,0.9903936622838927,0.9903955521681017,0.9903974007553906,0.9903992083683343,0.9904009753621219,0.9904027021223648,0.9904043890629441,0.990406036623908,0.9904076452694184,0.9904092154857521,0.990410747779365,0.990412242675013,0.9904137007139405,0.9904151224521337,0.9904165084586443,0.9904178593139764,0.9904191756085484,0.9904204579412224,0.9904217069179017,0.9904229231502009,0.9904241072541816,0.9904252598491574,0.9904263815565673,0.9904274729989113,0.9904285347987508,0.9904295675777758,0.9904305719559258,0.9904315485505767,0.9904324979757807,0.9904334208415612,0.9904343177532644,0.9904351893109586,0.990436036108884,0.9904368587349499,0.9904376577702771,0.9904384337887813,0.9904391873567995,0.9904399190327547,0.990440629366858,0.9904413189008424,0.9904419881677365,0.9904426376916603,0.9904432679876597,0.9904438795615613,0.9904444729098563,0.9904450485196092,0.9904456068683893,0.9904461484242197,0.990446673645552,0.9904471829812532,0.9904476768706153,0.9904481557433765,0.9904486200197591,0.9904490701105185,0.9904495064170087,0.990449929331253,0.990450339236031,0.9904507365049704,0.9904511215026502,0.9904514945847092,0.9904518560979609,0.9904522063805201,0.9904525457619255,0.9904528745632754,0.9904531930973621,0.9904535016688131,0.9904538005742318,0.9904540901023475,0.9904543705341563,0.9904546421430753,0.9904549051950902,0.9904551599489062,0.9904554066560998,0.9904556455612713,0.9904558769021944,0.9904561009099684,0.9904563178091681,0.9904565278179932,0.9904567311484174,0.9904569280063346,0.9904571185917054,0.9904573030987017,0.990457481715848,0.9904576546261621,0.9904578220072955,0.9904579840316688,0.9904581408666063,0.9904582926744689,0.9904584396127846,0.9904585818343757,0.9904587194874851,0.9904588527158992,0.9904589816590682,0.9904591064522267,0.9904592272265069,0.9904593441090539,0.990459457223137,0.9904595666882574,0.9904596726202555,0.990459775131414,0.9904598743305597,0.9904599703231631,0.9904600632114349,0.9904601530944191,0.990460240068087,0.9904603242254258,0.990460405656527,0.9904604844486703,0.9904605606864091,0.990460634451648,0.9904607058237255,0.9904607748794874,0.9904608416933641,0.9904609063374421,0.9904609688815337,0.9904610293932476,0.9904610879380558,0.9904611445793562,0.9904611993785397,0.990461252395048,0.9904613036864345,0.990461353308424,0.9904614013149668,0.9904614477582947,0.990461492688974,0.9904615361559562,0.9904615782066297,0.9904616188868671,0.9904616582410736,0.990461696312231,0.9904617331419447,0.9904617687704848,0.9904618032368291,0.9904618365787029,0.9904618688326189,0.9904619000339161,0.9904619302167949,0.9904619594143552,0.9904619876586293,0.9904620149806179,0.9904620414103206,0.9904620669767692,0.9904620917080579,0.9904621156313723,0.9904621387730206,0.990462161158459,0.9904621828123205,0.9904622037584406,0.9904622240198838,0.9904622436189656,0.9904622625772798,0.9904622809157192,0.9904622986544998,0.9904623158131806,0.9904623324106866,0.9904623484653282,0.9904623639948211,0.9904623790163056,0.9904623935463643,0.9904624076010414,0.9904624211958595,0.9904624343458361,0.9904624470654999,0.9904624593689072,0.9904624712696561,0.9904624827809033,0.9904624939153759,0.9904625046853867,0.9904625151028474,0.9904625251792818,0.9904625349258384,0.9904625443533009,0.990462553472103,0.990462562292337,0.9904625708237671,0.9904625790758375,0.9904625870576864,0.9904625947781514,0.9904626022457831,0.9904626094688532,0.9904626164553627,0.9904626232130511,0.990462629749406,0.9904626360716698,0.9904626421868489,0.9904626481017206,0.99046265382284,0.9904626593565496,0.9904626647089827,0.9904626698860741,0.9904626748935633,0.9904626797370027,0.9904626844217628,0.9904626889530391,0.9904626933358568,0.990462697575077,0.9904627016754013,0.9904627056413784,0.9904627094774073,0.9904627131877441,0.9904627167765048,0.9904627202476707,0.9904627236050939,0.9904627268524993,0.9904627299934906,0.990462733031553,0.9904627359700588,0.9904627388122683,0.990462741561336,0.9904627442203134,0.9904627467921516,0.9904627492797051,0.9904627516857358,0.9904627540129134,0.9904627562638223,0.9904627584409608,0.990462760546746,0.9904627625835157,0.990462764553531,0.9904627664589798,0.9904627683019769,0.9904627700845688,0.9904627718087353,0.9904627734763903,0.990462775089386,0.9904627766495134,0.9904627781585049,0.9904627796180362,0.9904627810297281,0.9904627823951484,0.9904627837158135,0.99046278499319,0.9904627862286964,0.9904627874237054,0.9904627885795438,0.9904627896974956,0.990462790778802,0.9904627918246646,0.9904627928362447,0.990462793814666,0.9904627947610151,0.9904627956763433,0.9904627965616675,0.9904627974179706,0.9904627982462045,0.9904627990472885,0.9904627998221129,0.9904628005715385,0.9904628012963972,0.9904628019974949,0.9904628026756102,0.9904628033314961,0.9904628039658814,0.9904628045794711,0.9904628051729468,0.9904628057469674,0.9904628063021711,0.9904628068391744,0.9904628073585737,0.9904628078609468,0.9904628083468509,0.9904628088168266,0.9904628092713955,0.9904628097110628,0.990462810136317,0.9904628105476303,0.9904628109454601,0.9904628113302485,0.9904628117024223,0.9904628120623956,0.9904628124105683,0.990462812747327,0.9904628130730458,0.9904628133880868,0.9904628136928,0.9904628139875241,0.9904628142725864,0.9904628145483033,0.9904628148149817,0.9904628150729177,0.9904628153223979,0.9904628155636994,0.9904628157970903,0.99046281602283,0.9904628162411692,0.9904628164523507,0.9904628166566091,0.9904628168541715,0.9904628170452566,0.9904628172300778,0.9904628174088398,0.9904628175817418,0.9904628177489754,0.9904628179107264,0.9904628180671745,0.9904628182184942,0.9904628183648531,0.9904628185064135,0.9904628186433333,0.9904628187757646,0.9904628189038543,0.9904628190277447,0.9904628191475735,0.9904628192634738,0.9904628193755748,0.9904628194840007,0.9904628195888717,0.990462819690305,0.990462819788413,0.9904628198833044,0.9904628199750853,0.9904628200638572,0.9904628201497186,0.9904628202327652,0.9904628203130894,0.9904628203907804,0.990462820465924,0.9904628205386046,0.9904628206089023,0.9904628206768952,0.9904628207426593,0.9904628208062672,0.9904628208677899,0.9904628209272957,0.9904628209848507,0.9904628210405186,0.9904628210943618,0.9904628211464397,0.9904628211968104,0.9904628212455296,0.9904628212926516,0.9904628213382289,0.9904628213823123,0.99046282142495,0.9904628214661899,0.9904628215060779,0.9904628215446584,0.9904628215819737,0.9904628216180663,0.9904628216529752,0.9904628216867397,0.9904628217193971,0.9904628217509841,0.9904628217815353,0.9904628218110854,0.9904628218396666,0.9904628218673105,0.9904628218940481,0.9904628219199098,0.9904628219449229,0.9904628219691162,0.9904628219925165,0.9904628220151498,0.9904628220370405,0.9904628220582141,0.9904628220786932,0.9904628220985012,0.9904628221176597,0.99046282213619,0.9904628221541127,0.9904628221714481,0.9904628221882149,0.9904628222044325,0.9904628222201183,0.9904628222352897,0.9904628222499637,0.9904628222641566,0.9904628222778842,0.9904628222911618,0.9904628223040041,0.9904628223164254,0.9904628223284397,0.99046282234006,0.9904628223512992,0.9904628223621696,0.9904628223726846,0.9904628223828539,0.99046282239269,0.9904628224022043,0.9904628224114062,0.9904628224203065,0.9904628224289149,0.990462822437241,0.9904628224452944,0.9904628224530837,0.9904628224606176,0.9904628224679045,0.9904628224749523,0.9904628224817694,0.9904628224883629,0.9904628224947404,0.9904628225009088,0.9904628225068746,0.9904628225126448,0.9904628225182265,0.9904628225236244,0.9904628225288459,0.9904628225338961,0.9904628225387806,0.9904628225435052,0.9904628225480745,0.9904628225524943,0.9904628225567692,0.9904628225609037,0.9904628225649028,0.9904628225687709,0.9904628225725124,0.9904628225761307,0.9904628225796308,0.990462822583016,0.9904628225862903,0.9904628225894571,0.9904628225925202,0.9904628225954827,0.9904628225983484,0.99046282260112,0.9904628226038005,0.9904628226063932,0.9904628226089012,0.9904628226113269,0.9904628226136728,0.9904628226159422,0.9904628226181368,0.9904628226202598,0.9904628226223128,0.9904628226242989,0.9904628226262197,0.9904628226280775,0.9904628226298743,0.9904628226316129,0.9904628226332932,0.9904628226349199,0.9904628226364913,0.9904628226380142,0.990462822639483,0.9904628226409092,0.9904628226422815,0.9904628226436178,0.9904628226448983,0.9904628226461527,0.9904628226473458,0.9904628226485253,0.990462822649635,0.9904628226507469,0.990462822651776,0.9904628226528239,0.9904628226537738,0.9904628226547627,0.9904628226556369,0.9904628226565773,0.990462822657389,0.9904628226582964,0.9904628226590537,0.9904628226599326,0.9904628226606266,0.9904628226615025,0.9904628226606067,0.990462822715805,0.9904628210184709,0.9904628650971189,0.9904619674465509,0.9904749061599204,0.9903707686803839,0.9902765905458837],\"x\":[0.0,0.333889816360601,0.667779632721202,1.001669449081803,1.335559265442404,1.669449081803005,2.003338898163606,2.337228714524207,2.671118530884808,3.005008347245409,3.33889816360601,3.672787979966611,4.006677796327212,4.340567612687813,4.674457429048414,5.0083472454090145,5.342237061769616,5.676126878130217,6.010016694490818,6.3439065108514185,6.67779632721202,7.011686143572621,7.345575959933222,7.6794657762938225,8.013355592654424,8.347245409015025,8.681135225375627,9.015025041736227,9.348914858096828,9.68280467445743,10.016694490818029,10.35058430717863,10.684474123539232,11.018363939899833,11.352253756260435,11.686143572621035,12.020033388981636,12.353923205342237,12.687813021702837,13.021702838063439,13.35559265442404,13.689482470784641,14.023372287145243,14.357262103505843,14.691151919866444,15.025041736227045,15.358931552587645,15.692821368948247,16.026711185308848,16.360601001669448,16.69449081803005,17.02838063439065,17.362270450751254,17.696160267111853,18.030050083472453,18.363939899833056,18.697829716193656,19.031719532554256,19.36560934891486,19.69949916527546,20.033388981636058,20.36727879799666,20.70116861435726,21.035058430717864,21.368948247078464,21.702838063439064,22.036727879799667,22.370617696160267,22.70450751252087,23.03839732888147,23.37228714524207,23.706176961602672,24.040066777963272,24.37395659432387,24.707846410684475,25.041736227045075,25.375626043405674,25.709515859766277,26.043405676126877,26.37729549248748,26.71118530884808,27.04507512520868,27.378964941569283,27.712854757929883,28.046744574290486,28.380634390651085,28.714524207011685,29.04841402337229,29.382303839732888,29.716193656093488,30.05008347245409,30.38397328881469,30.71786310517529,31.051752921535893,31.385642737896493,31.719532554257096,32.053422370617696,32.3873121869783,32.721202003338895,33.0550918196995,33.3889816360601,33.7228714524207,34.0567612687813,34.390651085141904,34.72454090150251,35.058430717863104,35.39232053422371,35.72621035058431,36.060100166944906,36.39398998330551,36.72787979966611,37.06176961602671,37.39565943238731,37.729549248747915,38.06343906510851,38.397328881469114,38.73121869782972,39.065108514190314,39.39899833055092,39.73288814691152,40.066777963272116,40.40066777963272,40.73455759599332,41.068447412353926,41.40233722871452,41.736227045075125,42.07011686143573,42.404006677796325,42.73789649415693,43.07178631051753,43.40567612687813,43.73956594323873,44.073455759599334,44.40734557595993,44.74123539232053,45.075125208681136,45.40901502504174,45.742904841402336,46.07679465776294,46.41068447412354,46.74457429048414,47.07846410684474,47.412353923205345,47.74624373956594,48.080133555926544,48.41402337228715,48.74791318864774,49.08180300500835,49.41569282136895,49.749582637729546,50.08347245409015,50.41736227045075,50.75125208681135,51.08514190317195,51.419031719532555,51.75292153589316,52.086811352253754,52.42070116861436,52.75459098497496,53.08848080133556,53.42237061769616,53.75626043405676,54.09015025041736,54.42404006677796,54.757929883138566,55.09181969949916,55.425709515859765,55.75959933222037,56.09348914858097,56.42737896494157,56.76126878130217,57.095158597662774,57.42904841402337,57.76293823038397,58.09682804674458,58.43071786310517,58.764607679465776,59.09849749582638,59.432387312186975,59.76627712854758,60.10016694490818,60.43405676126878,60.76794657762938,61.101836393989984,61.43572621035058,61.769616026711184,62.10350584307179,62.43739565943239,62.771285475792986,63.10517529215359,63.43906510851419,63.77295492487479,64.10684474123539,64.44073455759599,64.7746243739566,65.1085141903172,65.44240400667779,65.7762938230384,66.110183639399,66.4440734557596,66.7779632721202,67.1118530884808,67.4457429048414,67.779632721202,68.1135225375626,68.4474123539232,68.78130217028381,69.1151919866444,69.44908180300501,69.78297161936561,70.11686143572621,70.45075125208682,70.78464106844741,71.11853088480801,71.45242070116862,71.78631051752922,72.12020033388981,72.45409015025042,72.78797996661102,73.12186978297161,73.45575959933223,73.78964941569282,74.12353923205342,74.45742904841403,74.79131886477462,75.12520868113522,75.45909849749583,75.79298831385643,76.12687813021702,76.46076794657763,76.79465776293823,77.12854757929883,77.46243739565944,77.79632721202003,78.13021702838063,78.46410684474124,78.79799666110183,79.13188647746243,79.46577629382304,79.79966611018364,80.13355592654423,80.46744574290484,80.80133555926544,81.13522537562605,81.46911519198665,81.80300500834724,82.13689482470785,82.47078464106845,82.80467445742904,83.13856427378965,83.47245409015025,83.80634390651085,84.14023372287146,84.47412353923205,84.80801335559265,85.14190317195326,85.47579298831386,85.80968280467445,86.14357262103506,86.47746243739566,86.81135225375625,87.14524207011686,87.47913188647746,87.81302170283806,88.14691151919867,88.48080133555926,88.81469115191986,89.14858096828047,89.48247078464107,89.81636060100166,90.15025041736227,90.48414023372287,90.81803005008348,91.15191986644408,91.48580968280467,91.81969949916528,92.15358931552588,92.48747913188647,92.82136894824708,93.15525876460768,93.48914858096828,93.82303839732889,94.15692821368948,94.49081803005008,94.82470784641069,95.15859766277129,95.49248747913188,95.82637729549249,96.16026711185309,96.49415692821368,96.8280467445743,97.16193656093489,97.49582637729549,97.8297161936561,98.1636060100167,98.49749582637729,98.8313856427379,99.1652754590985,99.49916527545909,99.8330550918197,100.1669449081803,100.5008347245409,100.8347245409015,101.1686143572621,101.5025041736227,101.8363939899833,102.1702838063439,102.50417362270451,102.83806343906511,103.1719532554257,103.50584307178632,103.83973288814691,104.17362270450751,104.50751252086812,104.84140233722871,105.17529215358931,105.50918196994992,105.84307178631052,106.17696160267111,106.51085141903172,106.84474123539232,107.17863105175292,107.51252086811353,107.84641068447412,108.18030050083472,108.51419031719533,108.84808013355592,109.18196994991652,109.51585976627713,109.84974958263773,110.18363939899832,110.51752921535893,110.85141903171953,111.18530884808013,111.51919866444074,111.85308848080133,112.18697829716194,112.52086811352254,112.85475792988314,113.18864774624375,113.52253756260434,113.85642737896494,114.19031719532555,114.52420701168614,114.85809682804674,115.19198664440735,115.52587646076795,115.85976627712854,116.19365609348915,116.52754590984975,116.86143572621035,117.19532554257096,117.52921535893155,117.86310517529215,118.19699499165276,118.53088480801335,118.86477462437395,119.19866444073456,119.53255425709516,119.86644407345575,120.20033388981636,120.53422370617696,120.86811352253756,121.20200333889817,121.53589315525876,121.86978297161936,122.20367278797997,122.53756260434056,122.87145242070116,123.20534223706177,123.53923205342237,123.87312186978298,124.20701168614357,124.54090150250417,124.87479131886478,125.20868113522538,125.54257095158597,125.87646076794658,126.21035058430718,126.54424040066777,126.87813021702839,127.21202003338898,127.54590984974958,127.87979966611019,128.21368948247078,128.54757929883138,128.88146911519198,129.2153589315526,129.5492487479132,129.8831385642738,130.2170283806344,130.55091819699499,130.88480801335558,131.2186978297162,131.5525876460768,131.8864774624374,132.220367278798,132.5542570951586,132.8881469115192,133.2220367278798,133.5559265442404,133.889816360601,134.2237061769616,134.5575959933222,134.8914858096828,135.22537562604342,135.559265442404,135.8931552587646,136.2270450751252,136.5609348914858,136.8948247078464,137.22871452420702,137.56260434056762,137.8964941569282,138.2303839732888,138.5642737896494,138.89816360601003,139.23205342237063,139.56594323873122,139.89983305509182,140.23372287145241,140.567612687813,140.90150250417364,141.23539232053423,141.56928213689483,141.90317195325542,142.23706176961602,142.57095158597662,142.90484140233724,143.23873121869784,143.57262103505843,143.90651085141903,144.24040066777962,144.57429048414022,144.90818030050085,145.24207011686144,145.57595993322204,145.90984974958263,146.24373956594323,146.57762938230383,146.91151919866445,147.24540901502505,147.57929883138564,147.91318864774624,148.24707846410683,148.58096828046743,148.91485809682806,149.24874791318865,149.58263772954925,149.91652754590984,150.25041736227044,150.58430717863106,150.91819699499166,151.25208681135226,151.58597662771285,151.91986644407345,152.25375626043405,152.58764607679467,152.92153589315527,153.25542570951586,153.58931552587646,153.92320534223705,154.25709515859765,154.59098497495827,154.92487479131887,155.25876460767947,155.59265442404006,155.92654424040066,156.26043405676126,156.59432387312188,156.92821368948248,157.26210350584307,157.59599332220367,157.92988313856426,158.26377295492486,158.59766277128548,158.93155258764608,159.26544240400668,159.59933222036727,159.93322203672787,160.26711185308847,160.6010016694491,160.9348914858097,161.26878130217028,161.60267111853088,161.93656093489147,162.2704507512521,162.6043405676127,162.9382303839733,163.2721202003339,163.60601001669448,163.93989983305508,164.2737896494157,164.6076794657763,164.9415692821369,165.2754590984975,165.6093489148581,165.94323873121868,166.2771285475793,166.6110183639399,166.9449081803005,167.2787979966611,167.6126878130217,167.9465776293823,168.28046744574291,168.6143572621035,168.9482470784641,169.2821368948247,169.6160267111853,169.9499165275459,170.28380634390652,170.61769616026712,170.9515859766277,171.2854757929883,171.6193656093489,171.95325542570953,172.28714524207012,172.62103505843072,172.95492487479132,173.2888146911519,173.6227045075125,173.95659432387313,174.29048414023373,174.62437395659433,174.95826377295492,175.29215358931552,175.6260434056761,175.95993322203674,176.29382303839733,176.62771285475793,176.96160267111853,177.29549248747912,177.62938230383972,177.96327212020034,178.29716193656094,178.63105175292154,178.96494156928213,179.29883138564273,179.63272120200332,179.96661101836395,180.30050083472455,180.63439065108514,180.96828046744574,181.30217028380633,181.63606010016696,181.96994991652755,182.30383973288815,182.63772954924875,182.97161936560934,183.30550918196994,183.63939899833056,183.97328881469116,184.30717863105176,184.64106844741235,184.97495826377295,185.30884808013354,185.64273789649417,185.97662771285476,186.31051752921536,186.64440734557596,186.97829716193655,187.31218697829715,187.64607679465777,187.97996661101837,188.31385642737897,188.64774624373956,188.98163606010016,189.31552587646075,189.64941569282138,189.98330550918197,190.31719532554257,190.65108514190317,190.98497495826376,191.31886477462436,191.65275459098498,191.98664440734558,192.32053422370618,192.65442404006677,192.98831385642737,193.322203672788,193.6560934891486,193.98998330550918,194.32387312186978,194.65776293823038,194.99165275459097,195.3255425709516,195.6594323873122,195.9933222036728,196.3272120200334,196.66110183639398,196.99499165275458,197.3288814691152,197.6627712854758,197.9966611018364,198.330550918197,198.6644407345576,198.99833055091818,199.3322203672788,199.6661101836394,200.0]}},\"id\":\"80c22353-22ee-416f-a908-cc0d12e3fb4a\",\"type\":\"ColumnDataSource\"},{\"attributes\":{\"line_color\":{\"value\":\"#1f77b4\"},\"x\":{\"field\":\"x\"},\"y\":{\"field\":\"h\"}},\"id\":\"30f81f05-6423-4fc3-a262-6273aaa51abd\",\"type\":\"Line\"},{\"attributes\":{\"children\":[{\"id\":\"c5c6951a-6deb-486d-b9b9-9f47590b6d2c\",\"subtype\":\"Figure\",\"type\":\"Plot\"},{\"id\":\"a210d3e9-7633-452d-97e4-40145f573c51\",\"subtype\":\"Figure\",\"type\":\"Plot\"}]},\"id\":\"cb5836aa-95fb-4522-913d-4f8c6a8038ff\",\"type\":\"Column\"},{\"attributes\":{\"formatter\":{\"id\":\"994799f7-b061-462b-ada2-c6c471554e85\",\"type\":\"BasicTickFormatter\"},\"plot\":{\"id\":\"a210d3e9-7633-452d-97e4-40145f573c51\",\"subtype\":\"Figure\",\"type\":\"Plot\"},\"ticker\":{\"id\":\"d1ec221f-0611-46e8-94cd-f5d70fbbe8ee\",\"type\":\"BasicTicker\"}},\"id\":\"06620280-d656-4eb9-8e31-41de20f1e572\",\"type\":\"LinearAxis\"},{\"attributes\":{\"line_color\":{\"value\":\"#1f77b4\"},\"x\":{\"field\":\"x\"},\"y\":{\"field\":\"phi\"}},\"id\":\"1be03d48-9c7c-47af-ab73-b661a6929f95\",\"type\":\"Line\"},{\"attributes\":{\"plot\":null,\"text\":\"h\"},\"id\":\"1c5c7023-9cb4-4496-9f25-f68f22bc7203\",\"type\":\"Title\"},{\"attributes\":{\"callback\":null},\"id\":\"64bc9417-8651-4bcb-9d09-ddf2f3dfa91f\",\"type\":\"DataRange1d\"},{\"attributes\":{\"bottom_units\":\"screen\",\"fill_alpha\":{\"value\":0.5},\"fill_color\":{\"value\":\"lightgrey\"},\"left_units\":\"screen\",\"level\":\"overlay\",\"line_alpha\":{\"value\":1.0},\"line_color\":{\"value\":\"black\"},\"line_dash\":[4,4],\"line_width\":{\"value\":2},\"plot\":null,\"render_mode\":\"css\",\"right_units\":\"screen\",\"top_units\":\"screen\"},\"id\":\"d0cf5dbf-e1b3-4007-bb5e-502b89840df2\",\"type\":\"BoxAnnotation\"},{\"attributes\":{\"active_drag\":\"auto\",\"active_scroll\":\"auto\",\"active_tap\":\"auto\",\"tools\":[{\"id\":\"9e05a777-5f5b-4731-8668-ff6f414dab2e\",\"type\":\"PanTool\"},{\"id\":\"cd20f0f0-a615-4c16-a3dd-eb124a56dcb1\",\"type\":\"WheelZoomTool\"},{\"id\":\"591d02c5-5acf-44fa-9996-6e9ac3623146\",\"type\":\"BoxZoomTool\"},{\"id\":\"0d34fa79-828b-47cd-814c-ac5eeed36794\",\"type\":\"SaveTool\"},{\"id\":\"289cd239-d5b3-49ab-9ce1-e6b4c26fbc86\",\"type\":\"ResetTool\"},{\"id\":\"48859843-a1c4-4428-b4bd-f27c51da35bc\",\"type\":\"HelpTool\"}]},\"id\":\"3d4ef9b4-5a60-4e08-9b24-5073800d0483\",\"type\":\"Toolbar\"}],\"root_ids\":[\"cb5836aa-95fb-4522-913d-4f8c6a8038ff\"]},\"title\":\"Bokeh Application\",\"version\":\"0.12.2\"}};\n",
       "            var render_items = [{\"docid\":\"57940fc3-3134-4e54-b0b6-00959d1548f7\",\"elementid\":\"80e3a327-99ae-4271-a0af-3175c698b65a\",\"modelid\":\"cb5836aa-95fb-4522-913d-4f8c6a8038ff\",\"notebook_comms_target\":\"ade03e76-80f9-4f77-b285-3adafda121f1\"}];\n",
       "            \n",
       "            Bokeh.embed.embed_items(docs_json, render_items);\n",
       "        });\n",
       "      },\n",
       "      function(Bokeh) {\n",
       "      }\n",
       "    ];\n",
       "  \n",
       "    function run_inline_js() {\n",
       "      \n",
       "      if ((window.Bokeh !== undefined) || (force === \"1\")) {\n",
       "        for (var i = 0; i < inline_js.length; i++) {\n",
       "          inline_js[i](window.Bokeh);\n",
       "        }if (force === \"1\") {\n",
       "          display_loaded();\n",
       "        }} else if (Date.now() < window._bokeh_timeout) {\n",
       "        setTimeout(run_inline_js, 100);\n",
       "      } else if (!window._bokeh_failed_load) {\n",
       "        console.log(\"Bokeh: BokehJS failed to load within specified timeout.\");\n",
       "        window._bokeh_failed_load = true;\n",
       "      } else if (!force) {\n",
       "        var cell = $(\"#80e3a327-99ae-4271-a0af-3175c698b65a\").parents('.cell').data().cell;\n",
       "        cell.output_area.append_execute_result(NB_LOAD_WARNING)\n",
       "      }\n",
       "  \n",
       "    }\n",
       "  \n",
       "    if (window._bokeh_is_loading === 0) {\n",
       "      console.log(\"Bokeh: BokehJS loaded, going straight to plotting\");\n",
       "      run_inline_js();\n",
       "    } else {\n",
       "      load_libs(js_urls, function() {\n",
       "        console.log(\"Bokeh: BokehJS plotting callback run at\", now());\n",
       "        run_inline_js();\n",
       "      });\n",
       "    }\n",
       "  }(this));\n",
       "</script>"
      ]
     },
     "metadata": {},
     "output_type": "display_data"
    },
    {
     "name": "stdout",
     "output_type": "stream",
     "text": [
      "t: 200, niter: 2"
     ]
    }
   ],
   "source": [
    "running_simul = simul.copy()\n",
    "running_simul.add_writer(writers.bokeh_nb_writer)\n",
    "running_simul.conf['bokeh.fields'] = ['h', 'phi']\n",
    "running_simul.conf['bokeh.fig.h'] = {'y_range': (0, 5)}\n",
    "running_simul.conf['bokeh.fig'] = {'width': 600, 'height': 200}\n",
    "for i, (t, field, niter) in enumerate(running_simul):\n",
    "        print('\\rt: %i, niter: %i' % (t, niter), end='')"
   ]
  },
  {
   "cell_type": "code",
   "execution_count": 15,
   "metadata": {
    "ExecuteTime": {
     "end_time": "2016-11-18T14:14:05.076798",
     "start_time": "2016-11-18T14:13:43.398192"
    },
    "collapsed": false
   },
   "outputs": [
    {
     "name": "stdout",
     "output_type": "stream",
     "text": [
      "t: 200, niter: 2\n",
      "<numpy.lib.npyio.NpzFile object at 0x7f19a5347dd8>\n"
     ]
    }
   ],
   "source": [
    "running_simul = simul.copy()\n",
    "running_simul.add_writer(writers.datreant_step_writer)\n",
    "simul.conf['datreant.path'] = '.'\n",
    "for i, (t, field, niter) in enumerate(running_simul):\n",
    "    print('\\rt: %i, niter: %i' % (running_simul.t, niter), end='')\n",
    "print()\n",
    "print(np.load(running_simul.save_path / 'data.npz'))\n",
    "running_simul.save_path.rmtree()"
   ]
  }
 ],
 "metadata": {
  "celltoolbar": "Initialisation Cell",
  "kernelspec": {
   "display_name": "Python 3",
   "language": "python",
   "name": "python3"
  },
  "language_info": {
   "codemirror_mode": {
    "name": "ipython",
    "version": 3
   },
   "file_extension": ".py",
   "mimetype": "text/x-python",
   "name": "python",
   "nbconvert_exporter": "python",
   "pygments_lexer": "ipython3",
   "version": "3.5.2"
  }
 },
 "nbformat": 4,
 "nbformat_minor": 0
}
